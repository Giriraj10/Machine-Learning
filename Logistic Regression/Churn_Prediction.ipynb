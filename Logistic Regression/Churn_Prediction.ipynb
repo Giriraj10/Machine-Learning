{
 "cells": [
  {
   "cell_type": "markdown",
   "metadata": {
    "colab_type": "text",
    "id": "1FzYccB24irQ"
   },
   "source": [
    "# Project : Churn Prediction"
   ]
  },
  {
   "cell_type": "markdown",
   "metadata": {},
   "source": [
    "## Reading Files into Python"
   ]
  },
  {
   "cell_type": "code",
   "execution_count": 1,
   "metadata": {
    "colab": {
     "base_uri": "https://localhost:8080/"
    },
    "colab_type": "code",
    "executionInfo": {
     "elapsed": 1870,
     "status": "ok",
     "timestamp": 1588257907298,
     "user": {
      "displayName": "Sharoon Saxena",
      "photoUrl": "https://lh3.googleusercontent.com/a-/AOh14GjyKz9rNCPkHi6QK8TjrjBFlTtaI9ngf0hIwgAl=s64",
      "userId": "01167841530696023488"
     },
     "user_tz": -330
    },
    "id": "zDWO5w4jIiWL",
    "outputId": "d8d40b5b-c3a5-4123-985d-9a83bf54cebd"
   },
   "outputs": [],
   "source": [
    "# importing libraries\n",
    "import pandas as pd\n",
    "import numpy as np\n",
    "import matplotlib.pyplot as plt\n",
    "import seaborn as sns\n",
    "\n",
    "import warnings\n",
    "warnings.filterwarnings(action = 'ignore')"
   ]
  },
  {
   "cell_type": "code",
   "execution_count": 2,
   "metadata": {
    "colab": {},
    "colab_type": "code",
    "id": "LFxGyLx3L5IS"
   },
   "outputs": [
    {
     "ename": "FileNotFoundError",
     "evalue": "[Errno 2] No such file or directory: 'churn_prediction.csv'",
     "output_type": "error",
     "traceback": [
      "\u001b[1;31m---------------------------------------------------------------------------\u001b[0m",
      "\u001b[1;31mFileNotFoundError\u001b[0m                         Traceback (most recent call last)",
      "Input \u001b[1;32mIn [2]\u001b[0m, in \u001b[0;36m<cell line: 2>\u001b[1;34m()\u001b[0m\n\u001b[0;32m      1\u001b[0m \u001b[38;5;66;03m#importing data\u001b[39;00m\n\u001b[1;32m----> 2\u001b[0m data \u001b[38;5;241m=\u001b[39m \u001b[43mpd\u001b[49m\u001b[38;5;241;43m.\u001b[39;49m\u001b[43mread_csv\u001b[49m\u001b[43m(\u001b[49m\u001b[38;5;124;43m'\u001b[39;49m\u001b[38;5;124;43mchurn_prediction.csv\u001b[39;49m\u001b[38;5;124;43m'\u001b[39;49m\u001b[43m)\u001b[49m\n",
      "File \u001b[1;32mC:\\Python\\Python38\\lib\\site-packages\\pandas\\util\\_decorators.py:311\u001b[0m, in \u001b[0;36mdeprecate_nonkeyword_arguments.<locals>.decorate.<locals>.wrapper\u001b[1;34m(*args, **kwargs)\u001b[0m\n\u001b[0;32m    305\u001b[0m \u001b[38;5;28;01mif\u001b[39;00m \u001b[38;5;28mlen\u001b[39m(args) \u001b[38;5;241m>\u001b[39m num_allow_args:\n\u001b[0;32m    306\u001b[0m     warnings\u001b[38;5;241m.\u001b[39mwarn(\n\u001b[0;32m    307\u001b[0m         msg\u001b[38;5;241m.\u001b[39mformat(arguments\u001b[38;5;241m=\u001b[39marguments),\n\u001b[0;32m    308\u001b[0m         \u001b[38;5;167;01mFutureWarning\u001b[39;00m,\n\u001b[0;32m    309\u001b[0m         stacklevel\u001b[38;5;241m=\u001b[39mstacklevel,\n\u001b[0;32m    310\u001b[0m     )\n\u001b[1;32m--> 311\u001b[0m \u001b[38;5;28;01mreturn\u001b[39;00m \u001b[43mfunc\u001b[49m\u001b[43m(\u001b[49m\u001b[38;5;241;43m*\u001b[39;49m\u001b[43margs\u001b[49m\u001b[43m,\u001b[49m\u001b[43m \u001b[49m\u001b[38;5;241;43m*\u001b[39;49m\u001b[38;5;241;43m*\u001b[39;49m\u001b[43mkwargs\u001b[49m\u001b[43m)\u001b[49m\n",
      "File \u001b[1;32mC:\\Python\\Python38\\lib\\site-packages\\pandas\\io\\parsers\\readers.py:680\u001b[0m, in \u001b[0;36mread_csv\u001b[1;34m(filepath_or_buffer, sep, delimiter, header, names, index_col, usecols, squeeze, prefix, mangle_dupe_cols, dtype, engine, converters, true_values, false_values, skipinitialspace, skiprows, skipfooter, nrows, na_values, keep_default_na, na_filter, verbose, skip_blank_lines, parse_dates, infer_datetime_format, keep_date_col, date_parser, dayfirst, cache_dates, iterator, chunksize, compression, thousands, decimal, lineterminator, quotechar, quoting, doublequote, escapechar, comment, encoding, encoding_errors, dialect, error_bad_lines, warn_bad_lines, on_bad_lines, delim_whitespace, low_memory, memory_map, float_precision, storage_options)\u001b[0m\n\u001b[0;32m    665\u001b[0m kwds_defaults \u001b[38;5;241m=\u001b[39m _refine_defaults_read(\n\u001b[0;32m    666\u001b[0m     dialect,\n\u001b[0;32m    667\u001b[0m     delimiter,\n\u001b[1;32m   (...)\u001b[0m\n\u001b[0;32m    676\u001b[0m     defaults\u001b[38;5;241m=\u001b[39m{\u001b[38;5;124m\"\u001b[39m\u001b[38;5;124mdelimiter\u001b[39m\u001b[38;5;124m\"\u001b[39m: \u001b[38;5;124m\"\u001b[39m\u001b[38;5;124m,\u001b[39m\u001b[38;5;124m\"\u001b[39m},\n\u001b[0;32m    677\u001b[0m )\n\u001b[0;32m    678\u001b[0m kwds\u001b[38;5;241m.\u001b[39mupdate(kwds_defaults)\n\u001b[1;32m--> 680\u001b[0m \u001b[38;5;28;01mreturn\u001b[39;00m \u001b[43m_read\u001b[49m\u001b[43m(\u001b[49m\u001b[43mfilepath_or_buffer\u001b[49m\u001b[43m,\u001b[49m\u001b[43m \u001b[49m\u001b[43mkwds\u001b[49m\u001b[43m)\u001b[49m\n",
      "File \u001b[1;32mC:\\Python\\Python38\\lib\\site-packages\\pandas\\io\\parsers\\readers.py:575\u001b[0m, in \u001b[0;36m_read\u001b[1;34m(filepath_or_buffer, kwds)\u001b[0m\n\u001b[0;32m    572\u001b[0m _validate_names(kwds\u001b[38;5;241m.\u001b[39mget(\u001b[38;5;124m\"\u001b[39m\u001b[38;5;124mnames\u001b[39m\u001b[38;5;124m\"\u001b[39m, \u001b[38;5;28;01mNone\u001b[39;00m))\n\u001b[0;32m    574\u001b[0m \u001b[38;5;66;03m# Create the parser.\u001b[39;00m\n\u001b[1;32m--> 575\u001b[0m parser \u001b[38;5;241m=\u001b[39m \u001b[43mTextFileReader\u001b[49m\u001b[43m(\u001b[49m\u001b[43mfilepath_or_buffer\u001b[49m\u001b[43m,\u001b[49m\u001b[43m \u001b[49m\u001b[38;5;241;43m*\u001b[39;49m\u001b[38;5;241;43m*\u001b[39;49m\u001b[43mkwds\u001b[49m\u001b[43m)\u001b[49m\n\u001b[0;32m    577\u001b[0m \u001b[38;5;28;01mif\u001b[39;00m chunksize \u001b[38;5;129;01mor\u001b[39;00m iterator:\n\u001b[0;32m    578\u001b[0m     \u001b[38;5;28;01mreturn\u001b[39;00m parser\n",
      "File \u001b[1;32mC:\\Python\\Python38\\lib\\site-packages\\pandas\\io\\parsers\\readers.py:934\u001b[0m, in \u001b[0;36mTextFileReader.__init__\u001b[1;34m(self, f, engine, **kwds)\u001b[0m\n\u001b[0;32m    931\u001b[0m     \u001b[38;5;28mself\u001b[39m\u001b[38;5;241m.\u001b[39moptions[\u001b[38;5;124m\"\u001b[39m\u001b[38;5;124mhas_index_names\u001b[39m\u001b[38;5;124m\"\u001b[39m] \u001b[38;5;241m=\u001b[39m kwds[\u001b[38;5;124m\"\u001b[39m\u001b[38;5;124mhas_index_names\u001b[39m\u001b[38;5;124m\"\u001b[39m]\n\u001b[0;32m    933\u001b[0m \u001b[38;5;28mself\u001b[39m\u001b[38;5;241m.\u001b[39mhandles: IOHandles \u001b[38;5;241m|\u001b[39m \u001b[38;5;28;01mNone\u001b[39;00m \u001b[38;5;241m=\u001b[39m \u001b[38;5;28;01mNone\u001b[39;00m\n\u001b[1;32m--> 934\u001b[0m \u001b[38;5;28mself\u001b[39m\u001b[38;5;241m.\u001b[39m_engine \u001b[38;5;241m=\u001b[39m \u001b[38;5;28;43mself\u001b[39;49m\u001b[38;5;241;43m.\u001b[39;49m\u001b[43m_make_engine\u001b[49m\u001b[43m(\u001b[49m\u001b[43mf\u001b[49m\u001b[43m,\u001b[49m\u001b[43m \u001b[49m\u001b[38;5;28;43mself\u001b[39;49m\u001b[38;5;241;43m.\u001b[39;49m\u001b[43mengine\u001b[49m\u001b[43m)\u001b[49m\n",
      "File \u001b[1;32mC:\\Python\\Python38\\lib\\site-packages\\pandas\\io\\parsers\\readers.py:1218\u001b[0m, in \u001b[0;36mTextFileReader._make_engine\u001b[1;34m(self, f, engine)\u001b[0m\n\u001b[0;32m   1214\u001b[0m     mode \u001b[38;5;241m=\u001b[39m \u001b[38;5;124m\"\u001b[39m\u001b[38;5;124mrb\u001b[39m\u001b[38;5;124m\"\u001b[39m\n\u001b[0;32m   1215\u001b[0m \u001b[38;5;66;03m# error: No overload variant of \"get_handle\" matches argument types\u001b[39;00m\n\u001b[0;32m   1216\u001b[0m \u001b[38;5;66;03m# \"Union[str, PathLike[str], ReadCsvBuffer[bytes], ReadCsvBuffer[str]]\"\u001b[39;00m\n\u001b[0;32m   1217\u001b[0m \u001b[38;5;66;03m# , \"str\", \"bool\", \"Any\", \"Any\", \"Any\", \"Any\", \"Any\"\u001b[39;00m\n\u001b[1;32m-> 1218\u001b[0m \u001b[38;5;28mself\u001b[39m\u001b[38;5;241m.\u001b[39mhandles \u001b[38;5;241m=\u001b[39m \u001b[43mget_handle\u001b[49m\u001b[43m(\u001b[49m\u001b[43m  \u001b[49m\u001b[38;5;66;43;03m# type: ignore[call-overload]\u001b[39;49;00m\n\u001b[0;32m   1219\u001b[0m \u001b[43m    \u001b[49m\u001b[43mf\u001b[49m\u001b[43m,\u001b[49m\n\u001b[0;32m   1220\u001b[0m \u001b[43m    \u001b[49m\u001b[43mmode\u001b[49m\u001b[43m,\u001b[49m\n\u001b[0;32m   1221\u001b[0m \u001b[43m    \u001b[49m\u001b[43mencoding\u001b[49m\u001b[38;5;241;43m=\u001b[39;49m\u001b[38;5;28;43mself\u001b[39;49m\u001b[38;5;241;43m.\u001b[39;49m\u001b[43moptions\u001b[49m\u001b[38;5;241;43m.\u001b[39;49m\u001b[43mget\u001b[49m\u001b[43m(\u001b[49m\u001b[38;5;124;43m\"\u001b[39;49m\u001b[38;5;124;43mencoding\u001b[39;49m\u001b[38;5;124;43m\"\u001b[39;49m\u001b[43m,\u001b[49m\u001b[43m \u001b[49m\u001b[38;5;28;43;01mNone\u001b[39;49;00m\u001b[43m)\u001b[49m\u001b[43m,\u001b[49m\n\u001b[0;32m   1222\u001b[0m \u001b[43m    \u001b[49m\u001b[43mcompression\u001b[49m\u001b[38;5;241;43m=\u001b[39;49m\u001b[38;5;28;43mself\u001b[39;49m\u001b[38;5;241;43m.\u001b[39;49m\u001b[43moptions\u001b[49m\u001b[38;5;241;43m.\u001b[39;49m\u001b[43mget\u001b[49m\u001b[43m(\u001b[49m\u001b[38;5;124;43m\"\u001b[39;49m\u001b[38;5;124;43mcompression\u001b[39;49m\u001b[38;5;124;43m\"\u001b[39;49m\u001b[43m,\u001b[49m\u001b[43m \u001b[49m\u001b[38;5;28;43;01mNone\u001b[39;49;00m\u001b[43m)\u001b[49m\u001b[43m,\u001b[49m\n\u001b[0;32m   1223\u001b[0m \u001b[43m    \u001b[49m\u001b[43mmemory_map\u001b[49m\u001b[38;5;241;43m=\u001b[39;49m\u001b[38;5;28;43mself\u001b[39;49m\u001b[38;5;241;43m.\u001b[39;49m\u001b[43moptions\u001b[49m\u001b[38;5;241;43m.\u001b[39;49m\u001b[43mget\u001b[49m\u001b[43m(\u001b[49m\u001b[38;5;124;43m\"\u001b[39;49m\u001b[38;5;124;43mmemory_map\u001b[39;49m\u001b[38;5;124;43m\"\u001b[39;49m\u001b[43m,\u001b[49m\u001b[43m \u001b[49m\u001b[38;5;28;43;01mFalse\u001b[39;49;00m\u001b[43m)\u001b[49m\u001b[43m,\u001b[49m\n\u001b[0;32m   1224\u001b[0m \u001b[43m    \u001b[49m\u001b[43mis_text\u001b[49m\u001b[38;5;241;43m=\u001b[39;49m\u001b[43mis_text\u001b[49m\u001b[43m,\u001b[49m\n\u001b[0;32m   1225\u001b[0m \u001b[43m    \u001b[49m\u001b[43merrors\u001b[49m\u001b[38;5;241;43m=\u001b[39;49m\u001b[38;5;28;43mself\u001b[39;49m\u001b[38;5;241;43m.\u001b[39;49m\u001b[43moptions\u001b[49m\u001b[38;5;241;43m.\u001b[39;49m\u001b[43mget\u001b[49m\u001b[43m(\u001b[49m\u001b[38;5;124;43m\"\u001b[39;49m\u001b[38;5;124;43mencoding_errors\u001b[39;49m\u001b[38;5;124;43m\"\u001b[39;49m\u001b[43m,\u001b[49m\u001b[43m \u001b[49m\u001b[38;5;124;43m\"\u001b[39;49m\u001b[38;5;124;43mstrict\u001b[39;49m\u001b[38;5;124;43m\"\u001b[39;49m\u001b[43m)\u001b[49m\u001b[43m,\u001b[49m\n\u001b[0;32m   1226\u001b[0m \u001b[43m    \u001b[49m\u001b[43mstorage_options\u001b[49m\u001b[38;5;241;43m=\u001b[39;49m\u001b[38;5;28;43mself\u001b[39;49m\u001b[38;5;241;43m.\u001b[39;49m\u001b[43moptions\u001b[49m\u001b[38;5;241;43m.\u001b[39;49m\u001b[43mget\u001b[49m\u001b[43m(\u001b[49m\u001b[38;5;124;43m\"\u001b[39;49m\u001b[38;5;124;43mstorage_options\u001b[39;49m\u001b[38;5;124;43m\"\u001b[39;49m\u001b[43m,\u001b[49m\u001b[43m \u001b[49m\u001b[38;5;28;43;01mNone\u001b[39;49;00m\u001b[43m)\u001b[49m\u001b[43m,\u001b[49m\n\u001b[0;32m   1227\u001b[0m \u001b[43m\u001b[49m\u001b[43m)\u001b[49m\n\u001b[0;32m   1228\u001b[0m \u001b[38;5;28;01massert\u001b[39;00m \u001b[38;5;28mself\u001b[39m\u001b[38;5;241m.\u001b[39mhandles \u001b[38;5;129;01mis\u001b[39;00m \u001b[38;5;129;01mnot\u001b[39;00m \u001b[38;5;28;01mNone\u001b[39;00m\n\u001b[0;32m   1229\u001b[0m f \u001b[38;5;241m=\u001b[39m \u001b[38;5;28mself\u001b[39m\u001b[38;5;241m.\u001b[39mhandles\u001b[38;5;241m.\u001b[39mhandle\n",
      "File \u001b[1;32mC:\\Python\\Python38\\lib\\site-packages\\pandas\\io\\common.py:786\u001b[0m, in \u001b[0;36mget_handle\u001b[1;34m(path_or_buf, mode, encoding, compression, memory_map, is_text, errors, storage_options)\u001b[0m\n\u001b[0;32m    781\u001b[0m \u001b[38;5;28;01melif\u001b[39;00m \u001b[38;5;28misinstance\u001b[39m(handle, \u001b[38;5;28mstr\u001b[39m):\n\u001b[0;32m    782\u001b[0m     \u001b[38;5;66;03m# Check whether the filename is to be opened in binary mode.\u001b[39;00m\n\u001b[0;32m    783\u001b[0m     \u001b[38;5;66;03m# Binary mode does not support 'encoding' and 'newline'.\u001b[39;00m\n\u001b[0;32m    784\u001b[0m     \u001b[38;5;28;01mif\u001b[39;00m ioargs\u001b[38;5;241m.\u001b[39mencoding \u001b[38;5;129;01mand\u001b[39;00m \u001b[38;5;124m\"\u001b[39m\u001b[38;5;124mb\u001b[39m\u001b[38;5;124m\"\u001b[39m \u001b[38;5;129;01mnot\u001b[39;00m \u001b[38;5;129;01min\u001b[39;00m ioargs\u001b[38;5;241m.\u001b[39mmode:\n\u001b[0;32m    785\u001b[0m         \u001b[38;5;66;03m# Encoding\u001b[39;00m\n\u001b[1;32m--> 786\u001b[0m         handle \u001b[38;5;241m=\u001b[39m \u001b[38;5;28;43mopen\u001b[39;49m\u001b[43m(\u001b[49m\n\u001b[0;32m    787\u001b[0m \u001b[43m            \u001b[49m\u001b[43mhandle\u001b[49m\u001b[43m,\u001b[49m\n\u001b[0;32m    788\u001b[0m \u001b[43m            \u001b[49m\u001b[43mioargs\u001b[49m\u001b[38;5;241;43m.\u001b[39;49m\u001b[43mmode\u001b[49m\u001b[43m,\u001b[49m\n\u001b[0;32m    789\u001b[0m \u001b[43m            \u001b[49m\u001b[43mencoding\u001b[49m\u001b[38;5;241;43m=\u001b[39;49m\u001b[43mioargs\u001b[49m\u001b[38;5;241;43m.\u001b[39;49m\u001b[43mencoding\u001b[49m\u001b[43m,\u001b[49m\n\u001b[0;32m    790\u001b[0m \u001b[43m            \u001b[49m\u001b[43merrors\u001b[49m\u001b[38;5;241;43m=\u001b[39;49m\u001b[43merrors\u001b[49m\u001b[43m,\u001b[49m\n\u001b[0;32m    791\u001b[0m \u001b[43m            \u001b[49m\u001b[43mnewline\u001b[49m\u001b[38;5;241;43m=\u001b[39;49m\u001b[38;5;124;43m\"\u001b[39;49m\u001b[38;5;124;43m\"\u001b[39;49m\u001b[43m,\u001b[49m\n\u001b[0;32m    792\u001b[0m \u001b[43m        \u001b[49m\u001b[43m)\u001b[49m\n\u001b[0;32m    793\u001b[0m     \u001b[38;5;28;01melse\u001b[39;00m:\n\u001b[0;32m    794\u001b[0m         \u001b[38;5;66;03m# Binary mode\u001b[39;00m\n\u001b[0;32m    795\u001b[0m         handle \u001b[38;5;241m=\u001b[39m \u001b[38;5;28mopen\u001b[39m(handle, ioargs\u001b[38;5;241m.\u001b[39mmode)\n",
      "\u001b[1;31mFileNotFoundError\u001b[0m: [Errno 2] No such file or directory: 'churn_prediction.csv'"
     ]
    }
   ],
   "source": [
    "#importing data\n",
    "data = pd.read_csv('churn_prediction.csv')"
   ]
  },
  {
   "cell_type": "code",
   "execution_count": null,
   "metadata": {
    "colab": {
     "base_uri": "https://localhost:8080/"
    },
    "colab_type": "code",
    "executionInfo": {
     "elapsed": 3688,
     "status": "ok",
     "timestamp": 1588257909136,
     "user": {
      "displayName": "Sharoon Saxena",
      "photoUrl": "https://lh3.googleusercontent.com/a-/AOh14GjyKz9rNCPkHi6QK8TjrjBFlTtaI9ngf0hIwgAl=s64",
      "userId": "01167841530696023488"
     },
     "user_tz": -330
    },
    "id": "qPcIwT47NQX6",
    "outputId": "d599356e-97d0-4fd2-ded7-41308c27bd36"
   },
   "outputs": [],
   "source": [
    "#first 5 instances using \"head()\" function\n",
    "data.head()"
   ]
  },
  {
   "cell_type": "code",
   "execution_count": null,
   "metadata": {
    "colab": {
     "base_uri": "https://localhost:8080/"
    },
    "colab_type": "code",
    "executionInfo": {
     "elapsed": 3683,
     "status": "ok",
     "timestamp": 1588257909137,
     "user": {
      "displayName": "Sharoon Saxena",
      "photoUrl": "https://lh3.googleusercontent.com/a-/AOh14GjyKz9rNCPkHi6QK8TjrjBFlTtaI9ngf0hIwgAl=s64",
      "userId": "01167841530696023488"
     },
     "user_tz": -330
    },
    "id": "_G5CwMDl2B_8",
    "outputId": "9a99ada1-88f0-4b35-fc41-aa4cb2e92c0a"
   },
   "outputs": [],
   "source": [
    "#last 5 instances using \"tail()\" function\n",
    "data.tail()"
   ]
  },
  {
   "cell_type": "code",
   "execution_count": null,
   "metadata": {
    "colab": {
     "base_uri": "https://localhost:8080/"
    },
    "colab_type": "code",
    "executionInfo": {
     "elapsed": 3678,
     "status": "ok",
     "timestamp": 1588257909137,
     "user": {
      "displayName": "Sharoon Saxena",
      "photoUrl": "https://lh3.googleusercontent.com/a-/AOh14GjyKz9rNCPkHi6QK8TjrjBFlTtaI9ngf0hIwgAl=s64",
      "userId": "01167841530696023488"
     },
     "user_tz": -330
    },
    "id": "5Iy0lfDNNZ8U",
    "outputId": "d20b9def-72ad-4ee4-bbb1-ab97b4dcf34b"
   },
   "outputs": [],
   "source": [
    "#finding out the shape of the data using \"shape\" variable: Output (rows, columns)\n",
    "data.shape"
   ]
  },
  {
   "cell_type": "code",
   "execution_count": null,
   "metadata": {
    "colab": {
     "base_uri": "https://localhost:8080/"
    },
    "colab_type": "code",
    "executionInfo": {
     "elapsed": 3673,
     "status": "ok",
     "timestamp": 1588257909138,
     "user": {
      "displayName": "Sharoon Saxena",
      "photoUrl": "https://lh3.googleusercontent.com/a-/AOh14GjyKz9rNCPkHi6QK8TjrjBFlTtaI9ngf0hIwgAl=s64",
      "userId": "01167841530696023488"
     },
     "user_tz": -330
    },
    "id": "b75gSeumN50y",
    "outputId": "9eecf5c0-e712-416d-807c-75164154777f"
   },
   "outputs": [],
   "source": [
    "#Printing all the columns present in data\n",
    "data.columns"
   ]
  },
  {
   "cell_type": "markdown",
   "metadata": {
    "colab_type": "text",
    "id": "qfZv5qTw4rm_"
   },
   "source": [
    "## Variable Identification and Typecasting"
   ]
  },
  {
   "cell_type": "code",
   "execution_count": null,
   "metadata": {
    "colab": {
     "base_uri": "https://localhost:8080/"
    },
    "colab_type": "code",
    "executionInfo": {
     "elapsed": 3665,
     "status": "ok",
     "timestamp": 1588257909138,
     "user": {
      "displayName": "Sharoon Saxena",
      "photoUrl": "https://lh3.googleusercontent.com/a-/AOh14GjyKz9rNCPkHi6QK8TjrjBFlTtaI9ngf0hIwgAl=s64",
      "userId": "01167841530696023488"
     },
     "user_tz": -330
    },
    "id": "2_Us_uMgBnF_",
    "outputId": "513cc7c1-21ed-419b-d48e-c2f8e3dea8ba"
   },
   "outputs": [],
   "source": [
    "# A closer look at the data types present in the data\n",
    "data.dtypes"
   ]
  },
  {
   "cell_type": "markdown",
   "metadata": {
    "colab_type": "text",
    "id": "yAh9MfrhFlBE"
   },
   "source": [
    "There are a lot of variables visible at one, so let's narrow this down by looking **at one datatype at once**. We will start with int\n"
   ]
  },
  {
   "cell_type": "markdown",
   "metadata": {
    "colab_type": "text",
    "id": "LLXc4D7n9GIP"
   },
   "source": [
    "### Integer Data Type"
   ]
  },
  {
   "cell_type": "code",
   "execution_count": null,
   "metadata": {
    "colab": {
     "base_uri": "https://localhost:8080/"
    },
    "colab_type": "code",
    "executionInfo": {
     "elapsed": 3659,
     "status": "ok",
     "timestamp": 1588257909139,
     "user": {
      "displayName": "Sharoon Saxena",
      "photoUrl": "https://lh3.googleusercontent.com/a-/AOh14GjyKz9rNCPkHi6QK8TjrjBFlTtaI9ngf0hIwgAl=s64",
      "userId": "01167841530696023488"
     },
     "user_tz": -330
    },
    "id": "79o3VLDo-UcA",
    "outputId": "a2a9f736-92bb-4951-ad4d-0307cd835dd1"
   },
   "outputs": [],
   "source": [
    "# Identifying variables with integer datatype\n",
    "data.dtypes[data.dtypes == 'int64']"
   ]
  },
  {
   "cell_type": "markdown",
   "metadata": {
    "colab_type": "text",
    "id": "Yix8gagv-gwr"
   },
   "source": [
    "Summary:\n",
    "\n",
    "*    **Customer id** are a unique number assigned to customers. It is are **Okay as Integer**.\n",
    "\n",
    "*    **branch code** again represents different branches, therefore it should be **convereted to category**.\n",
    "\n",
    "*    **Age** and **Vintage** are also numbers and hence we are okay with them as integers.\n",
    "\n",
    "*    **customer_networth_category** is supposed to be an ordinal category, **should be converted to category**.\n",
    "\n",
    "*    **churn** : 1 represents the churn and 0 represents not churn. However, there is no comparison between these two categories. This **needs to be converted to category datatype**.\n"
   ]
  },
  {
   "cell_type": "code",
   "execution_count": null,
   "metadata": {
    "colab": {
     "base_uri": "https://localhost:8080/"
    },
    "colab_type": "code",
    "executionInfo": {
     "elapsed": 3653,
     "status": "ok",
     "timestamp": 1588257909139,
     "user": {
      "displayName": "Sharoon Saxena",
      "photoUrl": "https://lh3.googleusercontent.com/a-/AOh14GjyKz9rNCPkHi6QK8TjrjBFlTtaI9ngf0hIwgAl=s64",
      "userId": "01167841530696023488"
     },
     "user_tz": -330
    },
    "id": "zjim6-_NDUOe",
    "outputId": "87d0d390-f316-41c1-d2c6-9fac8c743c3a"
   },
   "outputs": [],
   "source": [
    "# converting churn to category\n",
    "data['churn'] = data['churn'].astype('category')\n",
    "data['branch_code'] = data['branch_code'].astype('category')\n",
    "data['customer_nw_category'] = data['customer_nw_category'].astype('category')\n",
    "data.dtypes[data.dtypes == 'int64']"
   ]
  },
  {
   "cell_type": "markdown",
   "metadata": {
    "colab_type": "text",
    "id": "LRSHTCVY9MSl"
   },
   "source": [
    "### Float Data Type"
   ]
  },
  {
   "cell_type": "code",
   "execution_count": null,
   "metadata": {
    "colab": {
     "base_uri": "https://localhost:8080/"
    },
    "colab_type": "code",
    "executionInfo": {
     "elapsed": 3648,
     "status": "ok",
     "timestamp": 1588257909139,
     "user": {
      "displayName": "Sharoon Saxena",
      "photoUrl": "https://lh3.googleusercontent.com/a-/AOh14GjyKz9rNCPkHi6QK8TjrjBFlTtaI9ngf0hIwgAl=s64",
      "userId": "01167841530696023488"
     },
     "user_tz": -330
    },
    "id": "W4teLfjkzWbg",
    "outputId": "b158a13a-90b8-45c2-fab9-bd8d1fc829bd"
   },
   "outputs": [],
   "source": [
    "# Identifying variables with float datatype\n",
    "data.dtypes[data.dtypes == 'float64']"
   ]
  },
  {
   "cell_type": "markdown",
   "metadata": {
    "colab_type": "text",
    "id": "Z-97-KADzlCu"
   },
   "source": [
    "Summary:\n",
    "\n",
    "*    **dependents** is expected to be a whole number. **Should be changed to integer type**\n",
    "\n",
    "*    **city** variable is also a unique code of a city represented by some interger number. **Should be converted to Category type**\n",
    "\n",
    "*    Rest of the variables like **credit, balance and debit** are best represented by the float variables."
   ]
  },
  {
   "cell_type": "code",
   "execution_count": null,
   "metadata": {
    "colab": {
     "base_uri": "https://localhost:8080/"
    },
    "colab_type": "code",
    "executionInfo": {
     "elapsed": 3644,
     "status": "ok",
     "timestamp": 1588257909140,
     "user": {
      "displayName": "Sharoon Saxena",
      "photoUrl": "https://lh3.googleusercontent.com/a-/AOh14GjyKz9rNCPkHi6QK8TjrjBFlTtaI9ngf0hIwgAl=s64",
      "userId": "01167841530696023488"
     },
     "user_tz": -330
    },
    "id": "ElAZeyTjWIh2",
    "outputId": "0e9110c9-8bf2-4460-fff6-a1d3d42e6ac6"
   },
   "outputs": [],
   "source": [
    "# converting \"dependents\" and \"city\" to their respective types\n",
    "data['dependents'] = data['dependents'].astype('Int64')\n",
    "data['city'] = data['city'].astype('category')\n",
    "\n",
    "# checking\n",
    "data[['dependents','city']].dtypes"
   ]
  },
  {
   "cell_type": "markdown",
   "metadata": {
    "colab_type": "text",
    "id": "CkGScFSc_8Rl"
   },
   "source": [
    "### Object Data Type"
   ]
  },
  {
   "cell_type": "code",
   "execution_count": null,
   "metadata": {
    "colab": {
     "base_uri": "https://localhost:8080/"
    },
    "colab_type": "code",
    "executionInfo": {
     "elapsed": 3640,
     "status": "ok",
     "timestamp": 1588257909140,
     "user": {
      "displayName": "Sharoon Saxena",
      "photoUrl": "https://lh3.googleusercontent.com/a-/AOh14GjyKz9rNCPkHi6QK8TjrjBFlTtaI9ngf0hIwgAl=s64",
      "userId": "01167841530696023488"
     },
     "user_tz": -330
    },
    "id": "_ou3CLuI9DwS",
    "outputId": "45611bfd-497d-4307-abfb-3cbdd31e3fd7"
   },
   "outputs": [],
   "source": [
    "data.dtypes"
   ]
  },
  {
   "cell_type": "markdown",
   "metadata": {
    "colab_type": "text",
    "id": "fzLUCLSU_Hmk"
   },
   "source": [
    "*    **variables like 'gender', 'occupation' and 'last_transaction' are of type object**. This means that **Pandas was not able to recognise the datatype** of these three variables."
   ]
  },
  {
   "cell_type": "code",
   "execution_count": null,
   "metadata": {
    "colab": {
     "base_uri": "https://localhost:8080/"
    },
    "colab_type": "code",
    "executionInfo": {
     "elapsed": 3636,
     "status": "ok",
     "timestamp": 1588257909141,
     "user": {
      "displayName": "Sharoon Saxena",
      "photoUrl": "https://lh3.googleusercontent.com/a-/AOh14GjyKz9rNCPkHi6QK8TjrjBFlTtaI9ngf0hIwgAl=s64",
      "userId": "01167841530696023488"
     },
     "user_tz": -330
    },
    "id": "fjOBy8qRaYfl",
    "outputId": "f8dec332-4f94-4994-9b00-9050ba2ff330"
   },
   "outputs": [],
   "source": [
    "# Manually checking object types\n",
    "data[['gender','occupation','last_transaction']].head(7)"
   ]
  },
  {
   "cell_type": "markdown",
   "metadata": {
    "colab_type": "text",
    "id": "8KOeDE6Bdlo4"
   },
   "source": [
    "*    **gender** and **occupation** variables **belong to categorical data types**.\n",
    "*    **last_transaction** should be a  **datetime variable**."
   ]
  },
  {
   "cell_type": "code",
   "execution_count": null,
   "metadata": {
    "colab": {
     "base_uri": "https://localhost:8080/"
    },
    "colab_type": "code",
    "executionInfo": {
     "elapsed": 3631,
     "status": "ok",
     "timestamp": 1588257909141,
     "user": {
      "displayName": "Sharoon Saxena",
      "photoUrl": "https://lh3.googleusercontent.com/a-/AOh14GjyKz9rNCPkHi6QK8TjrjBFlTtaI9ngf0hIwgAl=s64",
      "userId": "01167841530696023488"
     },
     "user_tz": -330
    },
    "id": "WweHyTD1B-Hi",
    "outputId": "f8e5d658-06dc-4240-a9d8-d5d6a2ac3867"
   },
   "outputs": [],
   "source": [
    "# typecasting \"gender\" and \"occupation\" to category type\n",
    "data['gender'] = data['gender'].astype('category')\n",
    "data['occupation'] = data['occupation'].astype('category')\n",
    "\n",
    "# checking\n",
    "data[['gender','occupation']].dtypes"
   ]
  },
  {
   "cell_type": "markdown",
   "metadata": {
    "colab_type": "text",
    "id": "mL6utzZVCXzZ"
   },
   "source": [
    "### datetime Data Type"
   ]
  },
  {
   "cell_type": "code",
   "execution_count": null,
   "metadata": {
    "colab": {},
    "colab_type": "code",
    "id": "rUW8X9y0cls5"
   },
   "outputs": [],
   "source": [
    "# creating an instance(date) of DatetimeIndex class using \"last_transaction\"\n",
    "date = pd.DatetimeIndex(data['last_transaction'])"
   ]
  },
  {
   "cell_type": "code",
   "execution_count": null,
   "metadata": {
    "colab": {},
    "colab_type": "code",
    "id": "BiDzZxipexc8"
   },
   "outputs": [],
   "source": [
    "# extracting new columns from \"last_transaction\"\n",
    "\n",
    "# last day of year when transaction was done\n",
    "data['doy_ls_tran'] = date.dayofyear\n",
    "\n",
    "# week of year when last transaction was done\n",
    "data['woy_ls_tran'] = date.weekofyear\n",
    "\n",
    "# month of year when last transaction was done\n",
    "data['moy_ls_tran'] = date.month\n",
    "\n",
    "# day of week when last transaction was done\n",
    "data['dow_ls_tran'] = date.dayofweek"
   ]
  },
  {
   "cell_type": "code",
   "execution_count": null,
   "metadata": {
    "colab": {
     "base_uri": "https://localhost:8080/"
    },
    "colab_type": "code",
    "executionInfo": {
     "elapsed": 3619,
     "status": "ok",
     "timestamp": 1588257909142,
     "user": {
      "displayName": "Sharoon Saxena",
      "photoUrl": "https://lh3.googleusercontent.com/a-/AOh14GjyKz9rNCPkHi6QK8TjrjBFlTtaI9ngf0hIwgAl=s64",
      "userId": "01167841530696023488"
     },
     "user_tz": -330
    },
    "id": "HX959YsKk0ie",
    "outputId": "55033f96-33de-45b2-9482-771a9598a9c0"
   },
   "outputs": [],
   "source": [
    "# checking new extracted columns using datetime\n",
    "data[['last_transaction','doy_ls_tran','woy_ls_tran','moy_ls_tran','dow_ls_tran']].head()"
   ]
  },
  {
   "cell_type": "markdown",
   "metadata": {
    "colab_type": "text",
    "id": "ey6xOF4gqHu2"
   },
   "source": [
    "The first column is the complete date of the last transaction which was done by the any given customer.\n",
    "\n",
    "The next columns represent the day of year, week of year, month of year, day of week when the last transaction was done.\n",
    "\n",
    "**Breaking down the date variable** into these granular information will **help us in understand when the last transaction was done from different perspectives**. Now that we have extracted the essentials from the last_transaction variables, we will drop it from the dataset.\n",
    "\n"
   ]
  },
  {
   "cell_type": "code",
   "execution_count": null,
   "metadata": {
    "colab": {
     "base_uri": "https://localhost:8080/"
    },
    "colab_type": "code",
    "executionInfo": {
     "elapsed": 3614,
     "status": "ok",
     "timestamp": 1588257909142,
     "user": {
      "displayName": "Sharoon Saxena",
      "photoUrl": "https://lh3.googleusercontent.com/a-/AOh14GjyKz9rNCPkHi6QK8TjrjBFlTtaI9ngf0hIwgAl=s64",
      "userId": "01167841530696023488"
     },
     "user_tz": -330
    },
    "id": "KVGFEI5aynYs",
    "outputId": "62701898-542a-4fab-91d8-6c7b87b1419b"
   },
   "outputs": [],
   "source": [
    "data = data.drop(columns = ['last_transaction'])\n",
    "data.dtypes"
   ]
  },
  {
   "cell_type": "markdown",
   "metadata": {
    "colab_type": "text",
    "id": "6PZEQUlXii1G"
   },
   "source": [
    "## Univariate Analysis: Numerical Variables"
   ]
  },
  {
   "cell_type": "code",
   "execution_count": null,
   "metadata": {
    "colab": {
     "base_uri": "https://localhost:8080/"
    },
    "colab_type": "code",
    "executionInfo": {
     "elapsed": 3610,
     "status": "ok",
     "timestamp": 1588257909143,
     "user": {
      "displayName": "Sharoon Saxena",
      "photoUrl": "https://lh3.googleusercontent.com/a-/AOh14GjyKz9rNCPkHi6QK8TjrjBFlTtaI9ngf0hIwgAl=s64",
      "userId": "01167841530696023488"
     },
     "user_tz": -330
    },
    "id": "1O8cRBfvipvQ",
    "outputId": "d2eee10e-7b80-44fd-f021-fbdcabacd5d1"
   },
   "outputs": [],
   "source": [
    "# Numerical datatypes\n",
    "data.select_dtypes(include=['int64','float64','Int64']).dtypes"
   ]
  },
  {
   "cell_type": "code",
   "execution_count": null,
   "metadata": {
    "colab": {},
    "colab_type": "code",
    "id": "CHPCzH5ujHGZ"
   },
   "outputs": [],
   "source": [
    "# seggregating variables into groups\n",
    "customer_details = ['customer_id','age','vintage']\n",
    "current_month = ['current_balance','current_month_credit','current_month_debit','current_month_balance']\n",
    "previous_month = ['previous_month_end_balance','previous_month_credit','previous_month_debit','previous_month_balance']\n",
    "previous_quarters = ['average_monthly_balance_prevQ','average_monthly_balance_prevQ2']\n",
    "transaction_date = ['doy_ls_tran','woy_ls_tran','moy_ls_tran','dow_ls_tran']"
   ]
  },
  {
   "cell_type": "code",
   "execution_count": null,
   "metadata": {
    "colab": {},
    "colab_type": "code",
    "id": "nv_U-gn5jLhf"
   },
   "outputs": [],
   "source": [
    "# custom function for easy and efficient analysis of numerical univariate\n",
    "\n",
    "def UVA_numeric(data, var_group):\n",
    "  '''\n",
    "  Univariate_Analysis_numeric\n",
    "  takes a group of variables (INTEGER and FLOAT) and plot/print all the descriptives and properties along with KDE.\n",
    "\n",
    "  Runs a loop: calculate all the descriptives of i(th) variable and plot/print it\n",
    "  '''\n",
    "\n",
    "  size = len(var_group)\n",
    "  plt.figure(figsize = (7*size,3), dpi = 100)\n",
    "  \n",
    "  #looping for each variable\n",
    "  for j,i in enumerate(var_group):\n",
    "    \n",
    "    # calculating descriptives of variable\n",
    "    mini = data[i].min()\n",
    "    maxi = data[i].max()\n",
    "    ran = data[i].max()-data[i].min()\n",
    "    mean = data[i].mean()\n",
    "    median = data[i].median()\n",
    "    st_dev = data[i].std()\n",
    "    skew = data[i].skew()\n",
    "    kurt = data[i].kurtosis()\n",
    "\n",
    "    # calculating points of standard deviation\n",
    "    points = mean-st_dev, mean+st_dev\n",
    "\n",
    "    #Plotting the variable with every information\n",
    "    plt.subplot(1,size,j+1)\n",
    "    sns.kdeplot(data[i], shade=True)\n",
    "    sns.lineplot(points, [0,0], color = 'black', label = \"std_dev\")\n",
    "    sns.scatterplot([mini,maxi], [0,0], color = 'orange', label = \"min/max\")\n",
    "    sns.scatterplot([mean], [0], color = 'red', label = \"mean\")\n",
    "    sns.scatterplot([median], [0], color = 'blue', label = \"median\")\n",
    "    plt.xlabel('{}'.format(i), fontsize = 20)\n",
    "    plt.ylabel('density')\n",
    "    plt.title('std_dev = {}; kurtosis = {};\\nskew = {}; range = {}\\nmean = {}; median = {}'.format((round(points[0],2),round(points[1],2)),\n",
    "                                                                                                   round(kurt,2),\n",
    "                                                                                                   round(skew,2),\n",
    "                                                                                                   (round(mini,2),round(maxi,2),round(ran,2)),\n",
    "                                                                                                   round(mean,2),\n",
    "                                                                                                   round(median,2)))"
   ]
  },
  {
   "cell_type": "markdown",
   "metadata": {
    "colab_type": "text",
    "id": "37Pk32OwisyT"
   },
   "source": [
    "### customer_information"
   ]
  },
  {
   "cell_type": "code",
   "execution_count": null,
   "metadata": {
    "colab": {
     "base_uri": "https://localhost:8080/"
    },
    "colab_type": "code",
    "executionInfo": {
     "elapsed": 5215,
     "status": "ok",
     "timestamp": 1588257910757,
     "user": {
      "displayName": "Sharoon Saxena",
      "photoUrl": "https://lh3.googleusercontent.com/a-/AOh14GjyKz9rNCPkHi6QK8TjrjBFlTtaI9ngf0hIwgAl=s64",
      "userId": "01167841530696023488"
     },
     "user_tz": -330
    },
    "id": "1YFj4I-wprgH",
    "outputId": "d6ebfb4a-732c-49a5-b070-ad2d548fa870"
   },
   "outputs": [],
   "source": [
    "UVA_numeric(data,customer_details)"
   ]
  },
  {
   "cell_type": "markdown",
   "metadata": {
    "colab_type": "text",
    "id": "xD-3il2nJt10"
   },
   "source": [
    "**Summary of Customer_Information:**\n",
    "*    **customer_id**:\n",
    "     *    variable is **unique for every customer, Hence uniform** distribution.\n",
    "     * This variable **does not contribute any information**\n",
    "     * Can be eliminated from data\n",
    "\n",
    "*    **age**:\n",
    "    *    Median Age = 46\n",
    "    *    **Most customers age between 30 to 66**\n",
    "    *    skewness +0.33 : customer age is **negligibly biased towards younger age**\n",
    "    *    **kurtosis = -0.17**; very less likely to have extreme/outlier values.\n",
    "*    **vintage:**\n",
    "    *    Most customers joined between 2100 and 2650 days from the day of data extraction.\n",
    "    *    **skewness** -1.42 : this is left skewed, **vintage variable is significantly biased towards longer association of customers.**\n",
    "    *    **Kurtosis = 2.93**: Extreme values and Outliers are very likely to be present in vintage.\n",
    "\n",
    "**Things to Investigate Further down the road:**\n",
    "*    The batch of **high number of very Old Age customers** in age variable."
   ]
  },
  {
   "cell_type": "markdown",
   "metadata": {
    "colab_type": "text",
    "id": "TiC2VomvlWS5"
   },
   "source": [
    "### current_month"
   ]
  },
  {
   "cell_type": "code",
   "execution_count": null,
   "metadata": {
    "colab": {
     "base_uri": "https://localhost:8080/"
    },
    "colab_type": "code",
    "executionInfo": {
     "elapsed": 7525,
     "status": "ok",
     "timestamp": 1588257913072,
     "user": {
      "displayName": "Sharoon Saxena",
      "photoUrl": "https://lh3.googleusercontent.com/a-/AOh14GjyKz9rNCPkHi6QK8TjrjBFlTtaI9ngf0hIwgAl=s64",
      "userId": "01167841530696023488"
     },
     "user_tz": -330
    },
    "id": "blZU92hHk81s",
    "outputId": "293e0653-485e-4c8c-9fb1-260559a71405"
   },
   "outputs": [],
   "source": [
    "UVA_numeric(data,current_month)"
   ]
  },
  {
   "cell_type": "markdown",
   "metadata": {
    "colab_type": "text",
    "id": "5J8ixOBgnE1O"
   },
   "source": [
    "**Summary**\n",
    "*    Considering the kurtosis and skewness value  for all 4 of these plots. Outliers/Extreme values are obvious."
   ]
  },
  {
   "cell_type": "markdown",
   "metadata": {
    "colab_type": "text",
    "id": "l9TpJ38koJbh"
   },
   "source": [
    "\n",
    "**Need to Remove Outliers to visulaise these plots**"
   ]
  },
  {
   "cell_type": "code",
   "execution_count": null,
   "metadata": {
    "colab": {
     "base_uri": "https://localhost:8080/"
    },
    "colab_type": "code",
    "executionInfo": {
     "elapsed": 7520,
     "status": "ok",
     "timestamp": 1588257913072,
     "user": {
      "displayName": "Sharoon Saxena",
      "photoUrl": "https://lh3.googleusercontent.com/a-/AOh14GjyKz9rNCPkHi6QK8TjrjBFlTtaI9ngf0hIwgAl=s64",
      "userId": "01167841530696023488"
     },
     "user_tz": -330
    },
    "id": "Tvlh4yl1l5Tr",
    "outputId": "d01269de-f4be-4c27-ed5e-5e62e6f48e26"
   },
   "outputs": [],
   "source": [
    "# standard deviation factor\n",
    "factor = 3\n",
    "\n",
    "# copying current_month\n",
    "cm_data = data[current_month]\n",
    "\n",
    "# filtering using standard deviation (not considering obseravtions > 3* standard deviation)\n",
    "cm_data = cm_data[cm_data['current_balance'] < factor*cm_data['current_balance'].std()]\n",
    "cm_data = cm_data[cm_data['current_month_credit'] < factor*cm_data['current_month_credit'].std()]\n",
    "cm_data = cm_data[cm_data['current_month_debit'] < factor*cm_data['current_month_debit'].std()]\n",
    "cm_data = cm_data[cm_data['current_month_balance'] < factor*cm_data['current_month_balance'].std()]\n",
    "\n",
    "# checking how many points removed\n",
    "len(data), len(cm_data)"
   ]
  },
  {
   "cell_type": "code",
   "execution_count": null,
   "metadata": {
    "colab": {
     "base_uri": "https://localhost:8080/"
    },
    "colab_type": "code",
    "executionInfo": {
     "elapsed": 9660,
     "status": "ok",
     "timestamp": 1588257915217,
     "user": {
      "displayName": "Sharoon Saxena",
      "photoUrl": "https://lh3.googleusercontent.com/a-/AOh14GjyKz9rNCPkHi6QK8TjrjBFlTtaI9ngf0hIwgAl=s64",
      "userId": "01167841530696023488"
     },
     "user_tz": -330
    },
    "id": "n7eIx4invp0g",
    "outputId": "0961d5f6-7ac8-4259-e606-b811479ec619"
   },
   "outputs": [],
   "source": [
    "UVA_numeric(cm_data,current_month)"
   ]
  },
  {
   "cell_type": "markdown",
   "metadata": {
    "colab_type": "text",
    "id": "c5T-Ldo0mLuJ"
   },
   "source": [
    "**Summary of current_month**\n",
    "*    After Removing extreme/outliers, plots are still very skewed.\n",
    "\n",
    "**Things to investigate further down**\n",
    "1.    **Is there thete any common trait/relation between the customers who are performing high transaction credit/debits?**\n",
    "2.    **Customers who are performinng high amount of transactions, are they doinng it every month?**"
   ]
  },
  {
   "cell_type": "markdown",
   "metadata": {
    "colab_type": "text",
    "id": "56ygh55Zok6v"
   },
   "source": [
    "### previous_month"
   ]
  },
  {
   "cell_type": "code",
   "execution_count": null,
   "metadata": {
    "colab": {
     "base_uri": "https://localhost:8080/"
    },
    "colab_type": "code",
    "executionInfo": {
     "elapsed": 11496,
     "status": "ok",
     "timestamp": 1588257917058,
     "user": {
      "displayName": "Sharoon Saxena",
      "photoUrl": "https://lh3.googleusercontent.com/a-/AOh14GjyKz9rNCPkHi6QK8TjrjBFlTtaI9ngf0hIwgAl=s64",
      "userId": "01167841530696023488"
     },
     "user_tz": -330
    },
    "id": "TjXX4cApwmc4",
    "outputId": "d91aa323-1c0e-437b-ffd4-4bceabdbbdeb"
   },
   "outputs": [],
   "source": [
    "UVA_numeric(data,previous_month)"
   ]
  },
  {
   "cell_type": "markdown",
   "metadata": {
    "colab_type": "text",
    "id": "sNBUxvviqVGj"
   },
   "source": [
    "**Summary of previous_month**\n",
    "*    This looks very similar to current_month. Most of the customers perform low amount transactions."
   ]
  },
  {
   "cell_type": "markdown",
   "metadata": {
    "colab_type": "text",
    "id": "jFQ4BEyKrLkR"
   },
   "source": [
    "### previous_quarters"
   ]
  },
  {
   "cell_type": "code",
   "execution_count": null,
   "metadata": {
    "colab": {
     "base_uri": "https://localhost:8080/"
    },
    "colab_type": "code",
    "executionInfo": {
     "elapsed": 11488,
     "status": "ok",
     "timestamp": 1588257917059,
     "user": {
      "displayName": "Sharoon Saxena",
      "photoUrl": "https://lh3.googleusercontent.com/a-/AOh14GjyKz9rNCPkHi6QK8TjrjBFlTtaI9ngf0hIwgAl=s64",
      "userId": "01167841530696023488"
     },
     "user_tz": -330
    },
    "id": "0sUZY9X7owHI",
    "outputId": "cd2207eb-e653-4c2b-914b-392d5f105d43"
   },
   "outputs": [],
   "source": [
    "UVA_numeric(data,previous_quarters)"
   ]
  },
  {
   "cell_type": "markdown",
   "metadata": {
    "colab_type": "text",
    "id": "KTazVPaBwn3f"
   },
   "source": [
    "**Summary**\n",
    "The general trend still follows, it is crutial that we find the out if there is any common trait between the customers doing high high amount of transactions."
   ]
  },
  {
   "cell_type": "markdown",
   "metadata": {
    "colab_type": "text",
    "id": "kTqwU7fQ0jkI"
   },
   "source": [
    "### transaction_date"
   ]
  },
  {
   "cell_type": "code",
   "execution_count": null,
   "metadata": {
    "colab": {
     "base_uri": "https://localhost:8080/"
    },
    "colab_type": "code",
    "executionInfo": {
     "elapsed": 13843,
     "status": "ok",
     "timestamp": 1588257919418,
     "user": {
      "displayName": "Sharoon Saxena",
      "photoUrl": "https://lh3.googleusercontent.com/a-/AOh14GjyKz9rNCPkHi6QK8TjrjBFlTtaI9ngf0hIwgAl=s64",
      "userId": "01167841530696023488"
     },
     "user_tz": -330
    },
    "id": "Lt-oFFQCrVZ0",
    "outputId": "a2924b1d-3b09-4ebd-b378-a05e72371edd"
   },
   "outputs": [],
   "source": [
    "UVA_numeric(data,transaction_date)"
   ]
  },
  {
   "cell_type": "markdown",
   "metadata": {
    "colab_type": "text",
    "id": "TJyehftG4qDk"
   },
   "source": [
    "**Summary**\n",
    "*    **Day_of_Year**:\n",
    "    *    most of the last transactions were made in the last 60 days of the extraction of data.\n",
    "    *    There are transactions which were made also an year ago.\n",
    "\n",
    "*   **Week_of_year and Month_of_year**: these variable validate the findings from the **day_of_year**.\n",
    "*    **Day_of_Week**: Tuesdays are often the favoured day relative to others.\n",
    "\n",
    "**Things to investigate further Down**\n",
    "*    **Customers whose last transaction was 6 months ago, did all of them churn?**"
   ]
  },
  {
   "cell_type": "markdown",
   "metadata": {
    "colab_type": "text",
    "id": "tleDyj9P_j_i"
   },
   "source": [
    "## Univariate Analysis : Categorical Varibales"
   ]
  },
  {
   "cell_type": "code",
   "execution_count": null,
   "metadata": {
    "colab": {
     "base_uri": "https://localhost:8080/"
    },
    "colab_type": "code",
    "executionInfo": {
     "elapsed": 13838,
     "status": "ok",
     "timestamp": 1588257919419,
     "user": {
      "displayName": "Sharoon Saxena",
      "photoUrl": "https://lh3.googleusercontent.com/a-/AOh14GjyKz9rNCPkHi6QK8TjrjBFlTtaI9ngf0hIwgAl=s64",
      "userId": "01167841530696023488"
     },
     "user_tz": -330
    },
    "id": "SLWcwsoa0tlN",
    "outputId": "30e8cb4c-ee9e-4e63-ed36-be036f67f8ae"
   },
   "outputs": [],
   "source": [
    "data.select_dtypes(exclude=['int64','float64','Int64']).dtypes"
   ]
  },
  {
   "cell_type": "markdown",
   "metadata": {
    "colab_type": "text",
    "id": "o8ebDof6Vlnq"
   },
   "source": [
    "**Grouping Varibales**\n",
    "\n",
    "* **customer_info**: gender, occupation, customer_nw_category\n",
    "* **account_info**: city, branch_code\n",
    "* **churn**"
   ]
  },
  {
   "cell_type": "code",
   "execution_count": null,
   "metadata": {
    "colab": {},
    "colab_type": "code",
    "id": "5i9kY6dVEITb"
   },
   "outputs": [],
   "source": [
    "# Custom function for easy visualisation of Categorical Variables\n",
    "def UVA_category(data, var_group):\n",
    "\n",
    "  '''\n",
    "  Univariate_Analysis_categorical\n",
    "  takes a group of variables (category) and plot/print all the value_counts and barplot.\n",
    "  '''\n",
    "  # setting figure_size\n",
    "  size = len(var_group)\n",
    "  plt.figure(figsize = (7*size,5), dpi = 100)\n",
    "\n",
    "  # for every variable\n",
    "  for j,i in enumerate(var_group):\n",
    "    norm_count = data[i].value_counts(normalize = True)\n",
    "    n_uni = data[i].nunique()\n",
    "\n",
    "  #Plotting the variable with every information\n",
    "    plt.subplot(1,size,j+1)\n",
    "    sns.barplot(norm_count, norm_count.index , order = norm_count.index)\n",
    "    plt.xlabel('fraction/percent', fontsize = 20)\n",
    "    plt.ylabel('{}'.format(i), fontsize = 20)\n",
    "    plt.title('n_uniques = {} \\n value counts \\n {};'.format(n_uni,norm_count))"
   ]
  },
  {
   "cell_type": "markdown",
   "metadata": {
    "colab_type": "text",
    "id": "JowqxBPrUHOS"
   },
   "source": [
    "### customer_info"
   ]
  },
  {
   "cell_type": "code",
   "execution_count": null,
   "metadata": {
    "colab": {
     "base_uri": "https://localhost:8080/"
    },
    "colab_type": "code",
    "executionInfo": {
     "elapsed": 13832,
     "status": "ok",
     "timestamp": 1588257919420,
     "user": {
      "displayName": "Sharoon Saxena",
      "photoUrl": "https://lh3.googleusercontent.com/a-/AOh14GjyKz9rNCPkHi6QK8TjrjBFlTtaI9ngf0hIwgAl=s64",
      "userId": "01167841530696023488"
     },
     "user_tz": -330
    },
    "id": "JXFaU9g0IY_I",
    "outputId": "d725b198-5c92-43f0-d943-e74f21838b42"
   },
   "outputs": [],
   "source": [
    "UVA_category(data, ['occupation', 'gender', 'customer_nw_category'])"
   ]
  },
  {
   "cell_type": "markdown",
   "metadata": {
    "colab_type": "text",
    "id": "ato5X6wuY8vO"
   },
   "source": [
    "**Summary**\n",
    "* Occupation\n",
    "  * Majority of people are self_employed.\n",
    "  * There are extremely few Company Accounts. Might explain Outlier/Extreme values in credit/debit.\n",
    "\n",
    "* Gender:\n",
    "  *  Males accounts are 1.5 times more than Female Accounts.\n",
    "\n",
    "* customer_nw_category:\n",
    "  *  Half of all the accounts belong to the 3rd net worth category.\n",
    "  *  Less than 15% belong to the highest net worth category.\n",
    "\n",
    "**Things to investigate further down:**\n",
    "* Possibility: Company accounts are the reason behind the outlier transactions.\n",
    "* Possibility: customers belonging to the highest net worth category may explain the skewness of the transactions."
   ]
  },
  {
   "cell_type": "markdown",
   "metadata": {
    "colab_type": "text",
    "id": "nnAMoLCkcD-b"
   },
   "source": [
    "### account_info"
   ]
  },
  {
   "cell_type": "code",
   "execution_count": null,
   "metadata": {
    "colab": {
     "base_uri": "https://localhost:8080/"
    },
    "colab_type": "code",
    "executionInfo": {
     "elapsed": 71316,
     "status": "ok",
     "timestamp": 1588257976909,
     "user": {
      "displayName": "Sharoon Saxena",
      "photoUrl": "https://lh3.googleusercontent.com/a-/AOh14GjyKz9rNCPkHi6QK8TjrjBFlTtaI9ngf0hIwgAl=s64",
      "userId": "01167841530696023488"
     },
     "user_tz": -330
    },
    "id": "MTey5QEbY7lM",
    "outputId": "cbedde61-4419-41ba-bfe7-1be1d3522874"
   },
   "outputs": [],
   "source": [
    "UVA_category(data, ['city', 'branch_code'])"
   ]
  },
  {
   "cell_type": "code",
   "execution_count": null,
   "metadata": {
    "colab": {
     "base_uri": "https://localhost:8080/"
    },
    "colab_type": "code",
    "executionInfo": {
     "elapsed": 91209,
     "status": "ok",
     "timestamp": 1588257996807,
     "user": {
      "displayName": "Sharoon Saxena",
      "photoUrl": "https://lh3.googleusercontent.com/a-/AOh14GjyKz9rNCPkHi6QK8TjrjBFlTtaI9ngf0hIwgAl=s64",
      "userId": "01167841530696023488"
     },
     "user_tz": -330
    },
    "id": "ZTs4Ess5UE6t",
    "outputId": "8a782413-edf5-40bb-af13-ba3dbc0b244f"
   },
   "outputs": [],
   "source": [
    "#Plotting \"city\"\n",
    "plt.figure(figsize = (5,5), dpi = 120)\n",
    "city_count = data['city'].value_counts(normalize=True)\n",
    "sns.barplot(city_count.index, city_count , order = city_count.index)\n",
    "plt.xlabel('City')\n",
    "plt.ylabel('fraction/percent')\n",
    "plt.ylim(0,0.02)"
   ]
  },
  {
   "cell_type": "code",
   "execution_count": null,
   "metadata": {
    "colab": {
     "base_uri": "https://localhost:8080/"
    },
    "colab_type": "code",
    "executionInfo": {
     "elapsed": 130093,
     "status": "ok",
     "timestamp": 1588258035696,
     "user": {
      "displayName": "Sharoon Saxena",
      "photoUrl": "https://lh3.googleusercontent.com/a-/AOh14GjyKz9rNCPkHi6QK8TjrjBFlTtaI9ngf0hIwgAl=s64",
      "userId": "01167841530696023488"
     },
     "user_tz": -330
    },
    "id": "hhNQ_I8keQ7W",
    "outputId": "96ea7a1e-56a2-4c2d-b7ba-d725bd76ae14"
   },
   "outputs": [],
   "source": [
    "#Plotting \"branch_code\"\n",
    "plt.figure(figsize = (5,5), dpi = 120)\n",
    "branch_count = data['branch_code'].value_counts()\n",
    "sns.barplot(branch_count.index, branch_count , order = branch_count.index)\n",
    "plt.xlabel('branch_code')\n",
    "plt.ylabel('fraction/percent')\n",
    "#plt.ylim(0,0.02)"
   ]
  },
  {
   "cell_type": "markdown",
   "metadata": {
    "colab_type": "text",
    "id": "A12aCbGWqM3l"
   },
   "source": [
    "**Summary:**\n",
    "for both variable \"city\" and \"branch_code\", there are too many categories. There is clear relation that some branches and cities are more popular with customers and and this trend decreases rapidly.\n",
    "\n",
    "**Things to investigate further Down**\n",
    "* Popular cities and branch code might be able to explain the skewness and outliers of credit/debit variables.\n",
    "* Possibility that cities and branch code with very few accounts may lead to churning."
   ]
  },
  {
   "cell_type": "markdown",
   "metadata": {
    "colab_type": "text",
    "id": "Fjn2DFHQ1DUA"
   },
   "source": [
    "### churn"
   ]
  },
  {
   "cell_type": "code",
   "execution_count": null,
   "metadata": {
    "colab": {
     "base_uri": "https://localhost:8080/"
    },
    "colab_type": "code",
    "executionInfo": {
     "elapsed": 130089,
     "status": "ok",
     "timestamp": 1588258035697,
     "user": {
      "displayName": "Sharoon Saxena",
      "photoUrl": "https://lh3.googleusercontent.com/a-/AOh14GjyKz9rNCPkHi6QK8TjrjBFlTtaI9ngf0hIwgAl=s64",
      "userId": "01167841530696023488"
     },
     "user_tz": -330
    },
    "id": "_3hiwoojj5tR",
    "outputId": "bc0e4d8b-720f-4493-cfdf-fe55d8e418e0"
   },
   "outputs": [],
   "source": [
    "UVA_category(data, ['churn'])"
   ]
  },
  {
   "cell_type": "markdown",
   "metadata": {
    "colab_type": "text",
    "id": "l8SyVYHe3R2-"
   },
   "source": [
    "**Summary**\n",
    "* Number of people who churned are 1/4 times of the people who did not churn in the given data."
   ]
  },
  {
   "cell_type": "markdown",
   "metadata": {
    "colab_type": "text",
    "id": "2AyX9rNl-NIZ"
   },
   "source": [
    "## Univariate: Missing Values"
   ]
  },
  {
   "cell_type": "code",
   "execution_count": null,
   "metadata": {
    "colab": {
     "base_uri": "https://localhost:8080/"
    },
    "colab_type": "code",
    "executionInfo": {
     "elapsed": 130084,
     "status": "ok",
     "timestamp": 1588258035698,
     "user": {
      "displayName": "Sharoon Saxena",
      "photoUrl": "https://lh3.googleusercontent.com/a-/AOh14GjyKz9rNCPkHi6QK8TjrjBFlTtaI9ngf0hIwgAl=s64",
      "userId": "01167841530696023488"
     },
     "user_tz": -330
    },
    "id": "4Hbg29tD4c8G",
    "outputId": "c9abd062-18c0-4dc1-8945-88b1658c68e4"
   },
   "outputs": [],
   "source": [
    "# finding number of missing values in every variable\n",
    "data.isnull().sum()"
   ]
  },
  {
   "cell_type": "markdown",
   "metadata": {
    "colab_type": "text",
    "id": "WwY5XbTlevUg"
   },
   "source": [
    "**Things to investigate further down:**\n",
    "*    Gender: Do the customers with missing gender values have some common behaviour in-\n",
    "  * churn: do missing values have any relation with churn?\n",
    "\n",
    "* Dependents:\n",
    " * Missing values might be similar to zero dependents\n",
    " * churn: do missing values have any relation with churn?\n",
    "\n",
    "* Occupation:\n",
    " * Do missing values have similar behaviour to any other occupation\n",
    " * do they have some relation with churn?\n",
    "\n",
    "* city:\n",
    "  * the respective cities can be found using branch_code\n",
    "\n",
    "* last_transaction:\n",
    "  * checking their previous month and current month and previous_quarter activity might give insight on their last transaction.\n",
    "\n",
    "* For almost all the above:\n",
    "\n",
    "  * vintage: might be recording errors from same period of joining\n",
    "  * branch_code: might be recording error from certain branch\n"
   ]
  },
  {
   "cell_type": "markdown",
   "metadata": {
    "colab_type": "text",
    "id": "Z7XSk_6M8-Sn"
   },
   "source": [
    "## Univariate Analysis: Outliers"
   ]
  },
  {
   "cell_type": "markdown",
   "metadata": {
    "colab_type": "text",
    "id": "r54EVLqQ-kbZ"
   },
   "source": [
    "**We suspected outliers in current_month and previous_month variable groups. We will verify that using bo plots**"
   ]
  },
  {
   "cell_type": "code",
   "execution_count": null,
   "metadata": {
    "colab": {},
    "colab_type": "code",
    "id": "cBncECG3dVC2"
   },
   "outputs": [],
   "source": [
    "# custom function for easy outlier analysis\n",
    "\n",
    "def UVA_outlier(data, var_group, include_outlier = True):\n",
    "  '''\n",
    "  Univariate_Analysis_outlier:\n",
    "  takes a group of variables (INTEGER and FLOAT) and plot/print boplot and descriptives\\n\n",
    "  Runs a loop: calculate all the descriptives of i(th) variable and plot/print it \\n\\n\n",
    "\n",
    "  data : dataframe from which to plot from\\n\n",
    "  var_group : {list} type Group of Continuous variables\\n\n",
    "  include_outlier : {bool} whether to include outliers or not, default = True\\n\n",
    "  '''\n",
    "\n",
    "  size = len(var_group)\n",
    "  plt.figure(figsize = (7*size,4), dpi = 100)\n",
    "  \n",
    "  #looping for each variable\n",
    "  for j,i in enumerate(var_group):\n",
    "    \n",
    "    # calculating descriptives of variable\n",
    "    quant25 = data[i].quantile(0.25)\n",
    "    quant75 = data[i].quantile(0.75)\n",
    "    IQR = quant75 - quant25\n",
    "    med = data[i].median()\n",
    "    whis_low = quant25-(1.5*IQR)\n",
    "    whis_high = quant75+(1.5*IQR)\n",
    "\n",
    "    # Calculating Number of Outliers\n",
    "    outlier_high = len(data[i][data[i]>whis_high])\n",
    "    outlier_low = len(data[i][data[i]<whis_low])\n",
    "\n",
    "    if include_outlier == True:\n",
    "      #Plotting the variable with every information\n",
    "      plt.subplot(1,size,j+1)\n",
    "      sns.boxplot(data[i], orient=\"v\")\n",
    "      plt.ylabel('{}'.format(i))\n",
    "      plt.title('With Outliers\\nIQR = {}; Median = {} \\n 2nd,3rd  quartile = {};\\n Outlier (low/high) = {} \\n'.format(\n",
    "                                                                                                   round(IQR,2),\n",
    "                                                                                                   round(med,2),\n",
    "                                                                                                   (round(quant25,2),round(quant75,2)),\n",
    "                                                                                                   (outlier_low,outlier_high)\n",
    "                                                                                                   ))\n",
    "      \n",
    "    else:\n",
    "      # replacing outliers with max/min whisker\n",
    "      data2 = data[var_group][:]\n",
    "      data2[i][data2[i]>whis_high] = whis_high+1\n",
    "      data2[i][data2[i]<whis_low] = whis_low-1\n",
    "      \n",
    "      # plotting without outliers\n",
    "      plt.subplot(1,size,j+1)\n",
    "      sns.boxplot(data2[i], orient=\"v\")\n",
    "      plt.ylabel('{}'.format(i))\n",
    "      plt.title('Without Outliers\\nIQR = {}; Median = {} \\n 2nd,3rd  quartile = {};\\n Outlier (low/high) = {} \\n'.format(\n",
    "                                                                                                   round(IQR,2),\n",
    "                                                                                                   round(med,2),\n",
    "                                                                                                   (round(quant25,2),round(quant75,2)),\n",
    "                                                                                                   (outlier_low,outlier_high)\n",
    "                                                                                                   ))"
   ]
  },
  {
   "cell_type": "markdown",
   "metadata": {
    "colab_type": "text",
    "id": "2slzVeVHPScG"
   },
   "source": [
    "### current_month and previous_month"
   ]
  },
  {
   "cell_type": "code",
   "execution_count": null,
   "metadata": {
    "colab": {
     "base_uri": "https://localhost:8080/"
    },
    "colab_type": "code",
    "executionInfo": {
     "elapsed": 131203,
     "status": "ok",
     "timestamp": 1588258036825,
     "user": {
      "displayName": "Sharoon Saxena",
      "photoUrl": "https://lh3.googleusercontent.com/a-/AOh14GjyKz9rNCPkHi6QK8TjrjBFlTtaI9ngf0hIwgAl=s64",
      "userId": "01167841530696023488"
     },
     "user_tz": -330
    },
    "id": "jhhypvHgIo9q",
    "outputId": "aab08c6d-8bee-431e-eca2-0f767d6ee87b"
   },
   "outputs": [],
   "source": [
    "UVA_outlier(data, current_month,)"
   ]
  },
  {
   "cell_type": "code",
   "execution_count": null,
   "metadata": {
    "colab": {
     "base_uri": "https://localhost:8080/"
    },
    "colab_type": "code",
    "executionInfo": {
     "elapsed": 134916,
     "status": "ok",
     "timestamp": 1588258040543,
     "user": {
      "displayName": "Sharoon Saxena",
      "photoUrl": "https://lh3.googleusercontent.com/a-/AOh14GjyKz9rNCPkHi6QK8TjrjBFlTtaI9ngf0hIwgAl=s64",
      "userId": "01167841530696023488"
     },
     "user_tz": -330
    },
    "id": "6aeCX9t2MR55",
    "outputId": "03b9fa45-ff32-4374-ce1b-c4cf6710caf1"
   },
   "outputs": [],
   "source": [
    "UVA_outlier(data, current_month, include_outlier=False)"
   ]
  },
  {
   "cell_type": "code",
   "execution_count": null,
   "metadata": {
    "colab": {
     "base_uri": "https://localhost:8080/"
    },
    "colab_type": "code",
    "executionInfo": {
     "elapsed": 134913,
     "status": "ok",
     "timestamp": 1588258040544,
     "user": {
      "displayName": "Sharoon Saxena",
      "photoUrl": "https://lh3.googleusercontent.com/a-/AOh14GjyKz9rNCPkHi6QK8TjrjBFlTtaI9ngf0hIwgAl=s64",
      "userId": "01167841530696023488"
     },
     "user_tz": -330
    },
    "id": "0FXEcoBlJLlm",
    "outputId": "c6ccc6fb-b403-4b1e-a3b6-9298772b746e"
   },
   "outputs": [],
   "source": [
    "UVA_outlier(data, previous_month)"
   ]
  },
  {
   "cell_type": "code",
   "execution_count": null,
   "metadata": {
    "colab": {
     "base_uri": "https://localhost:8080/"
    },
    "colab_type": "code",
    "executionInfo": {
     "elapsed": 140055,
     "status": "ok",
     "timestamp": 1588258045691,
     "user": {
      "displayName": "Sharoon Saxena",
      "photoUrl": "https://lh3.googleusercontent.com/a-/AOh14GjyKz9rNCPkHi6QK8TjrjBFlTtaI9ngf0hIwgAl=s64",
      "userId": "01167841530696023488"
     },
     "user_tz": -330
    },
    "id": "uILo1wPFUzFw",
    "outputId": "16aac5bb-1492-489f-e069-c1cede1f1c23"
   },
   "outputs": [],
   "source": [
    "UVA_outlier(data, previous_month, include_outlier=False)"
   ]
  },
  {
   "cell_type": "markdown",
   "metadata": {
    "colab_type": "text",
    "id": "-JnOX4DxKn3Y"
   },
   "source": [
    "**Summary:**\n",
    "* If we look at corresponding plots in the outputs above, there seems to be a strong relation between the corresponding plots of previous_month and current_month variables.\n",
    "\n",
    "* Outliers are significant in number and very similar in number between corresponding plots. Which indicates some inherent undiscovered behviour of Outliers."
   ]
  },
  {
   "cell_type": "markdown",
   "metadata": {
    "colab_type": "text",
    "id": "jqmFms6yPY7M"
   },
   "source": [
    "### previous quarters"
   ]
  },
  {
   "cell_type": "code",
   "execution_count": null,
   "metadata": {
    "colab": {
     "base_uri": "https://localhost:8080/"
    },
    "colab_type": "code",
    "executionInfo": {
     "elapsed": 140052,
     "status": "ok",
     "timestamp": 1588258045692,
     "user": {
      "displayName": "Sharoon Saxena",
      "photoUrl": "https://lh3.googleusercontent.com/a-/AOh14GjyKz9rNCPkHi6QK8TjrjBFlTtaI9ngf0hIwgAl=s64",
      "userId": "01167841530696023488"
     },
     "user_tz": -330
    },
    "id": "g6dxdT-2PbbU",
    "outputId": "8365393b-4dce-4519-e976-85ac3c881310"
   },
   "outputs": [],
   "source": [
    "UVA_outlier(data,previous_quarters)"
   ]
  },
  {
   "cell_type": "code",
   "execution_count": null,
   "metadata": {
    "colab": {
     "base_uri": "https://localhost:8080/"
    },
    "colab_type": "code",
    "executionInfo": {
     "elapsed": 140039,
     "status": "ok",
     "timestamp": 1588258045693,
     "user": {
      "displayName": "Sharoon Saxena",
      "photoUrl": "https://lh3.googleusercontent.com/a-/AOh14GjyKz9rNCPkHi6QK8TjrjBFlTtaI9ngf0hIwgAl=s64",
      "userId": "01167841530696023488"
     },
     "user_tz": -330
    },
    "id": "iWJ83i7yUiWO",
    "outputId": "8cd62b65-55f3-467a-f50e-63255e075d98"
   },
   "outputs": [],
   "source": [
    "UVA_outlier(data,previous_quarters, include_outlier = False)"
   ]
  },
  {
   "cell_type": "markdown",
   "metadata": {
    "colab_type": "text",
    "id": "ORqbv5eoQ8lK"
   },
   "source": [
    "Summary:\n",
    "* Outliers in previous two quarters are very similar but significantly large in number."
   ]
  },
  {
   "cell_type": "markdown",
   "metadata": {
    "colab_type": "text",
    "id": "sqvHG14NGrcN"
   },
   "source": [
    "## Investigation directions from Univariate Analysis\n",
    "1. customer_id variable can be dropped.\n",
    "2.  Is there there any common trait/relation between the customers who are performing high transaction credit/debits?\n",
    "   * customer_nw_category might explain that.\n",
    "   * Occupation = Company might explain them\n",
    "   * popular cities might explain this\n",
    "4.  Customers whose last transaction was 6 months ago, did all of them churn? \n",
    "5. Possibility that cities and branch code with very few accounts may lead to churning.\n"
   ]
  },
  {
   "cell_type": "markdown",
   "metadata": {
    "colab_type": "text",
    "id": "aoMmh9pFGGzo"
   },
   "source": [
    "## Investigation directions from Univariate Analysis\n",
    "1. customer_id variable can be dropped.\n",
    "2.  Is there there any common trait/relation between the customers who are performing high transaction credit/debits?\n",
    "   * customer_nw_category might explain that.\n",
    "   * Occupation = Company might explain them\n",
    "   * popular cities might explain this\n",
    "4.  Customers whose last transaction was 6 months ago, did all of them churn? \n",
    "5. Possibility that cities and branch code with very few accounts may lead to churning.\n"
   ]
  },
  {
   "cell_type": "markdown",
   "metadata": {
    "colab_type": "text",
    "id": "0pLmF5hCfCnV"
   },
   "source": [
    "## Bivariate Analysis : Numerical-Numerical"
   ]
  },
  {
   "cell_type": "code",
   "execution_count": null,
   "metadata": {
    "colab": {
     "base_uri": "https://localhost:8080/",
     "height": 340
    },
    "colab_type": "code",
    "executionInfo": {
     "elapsed": 4035,
     "status": "ok",
     "timestamp": 1588258227530,
     "user": {
      "displayName": "Sharoon Saxena",
      "photoUrl": "https://lh3.googleusercontent.com/a-/AOh14GjyKz9rNCPkHi6QK8TjrjBFlTtaI9ngf0hIwgAl=s64",
      "userId": "01167841530696023488"
     },
     "user_tz": -330
    },
    "id": "KBkKRdwlJyqB",
    "outputId": "fcc01bde-2202-4f8e-b01e-468393c5775e"
   },
   "outputs": [],
   "source": [
    "# isolating numerical datatypes\n",
    "numerical = data.select_dtypes(include=['int64','float64','Int64'])[:]\n",
    "numerical.dtypes"
   ]
  },
  {
   "cell_type": "markdown",
   "metadata": {
    "colab_type": "text",
    "id": "jYBGrb8IqF1r"
   },
   "source": [
    "### Correlation Matrix"
   ]
  },
  {
   "cell_type": "code",
   "execution_count": null,
   "metadata": {
    "colab": {
     "base_uri": "https://localhost:8080/",
     "height": 627
    },
    "colab_type": "code",
    "executionInfo": {
     "elapsed": 4839,
     "status": "ok",
     "timestamp": 1588258229087,
     "user": {
      "displayName": "Sharoon Saxena",
      "photoUrl": "https://lh3.googleusercontent.com/a-/AOh14GjyKz9rNCPkHi6QK8TjrjBFlTtaI9ngf0hIwgAl=s64",
      "userId": "01167841530696023488"
     },
     "user_tz": -330
    },
    "id": "ZBlXGiiCw09O",
    "outputId": "75b681ae-f56d-47f3-b018-49a2392366e9"
   },
   "outputs": [],
   "source": [
    "# calculating correlation\n",
    "correlation = numerical.dropna().corr()\n",
    "correlation"
   ]
  },
  {
   "cell_type": "markdown",
   "metadata": {
    "colab_type": "text",
    "id": "O5kVn205Uc4B"
   },
   "source": [
    "### Heatmap"
   ]
  },
  {
   "cell_type": "code",
   "execution_count": null,
   "metadata": {
    "colab": {
     "base_uri": "https://localhost:8080/",
     "height": 331
    },
    "colab_type": "code",
    "executionInfo": {
     "elapsed": 16587,
     "status": "ok",
     "timestamp": 1588258241844,
     "user": {
      "displayName": "Sharoon Saxena",
      "photoUrl": "https://lh3.googleusercontent.com/a-/AOh14GjyKz9rNCPkHi6QK8TjrjBFlTtaI9ngf0hIwgAl=s64",
      "userId": "01167841530696023488"
     },
     "user_tz": -330
    },
    "id": "iDJHUYLEy2Gf",
    "outputId": "acc62031-d7ee-41bb-e986-6174335d84bc"
   },
   "outputs": [],
   "source": [
    "# plotting heatmap usill all methods for all numerical variables\n",
    "plt.figure(figsize=(36,6), dpi=140)\n",
    "for j,i in enumerate(['pearson','kendall','spearman']):\n",
    "  plt.subplot(1,3,j+1)\n",
    "  correlation = numerical.dropna().corr(method=i)\n",
    "  sns.heatmap(correlation, linewidth = 2)\n",
    "  plt.title(i, fontsize=18)\n",
    "\n"
   ]
  },
  {
   "cell_type": "markdown",
   "metadata": {
    "colab_type": "text",
    "id": "KbatuwlduSNl"
   },
   "source": [
    "* Kendall and Spearman correlation seem to have very similar pattern between them, except the slight variation in magnitude of correlation.\n",
    "*  Too many variables with insignificant correlation.\n",
    "*  Major correlation lies between the transaction variables and balance variables."
   ]
  },
  {
   "cell_type": "code",
   "execution_count": null,
   "metadata": {
    "colab": {},
    "colab_type": "code",
    "id": "FZSKnYzf1xg5"
   },
   "outputs": [],
   "source": [
    "# extracting transaction information of current and previous months\n",
    "var = []\n",
    "var.extend(previous_month)\n",
    "var.extend(current_month)\n",
    "var.extend(previous_quarters)"
   ]
  },
  {
   "cell_type": "code",
   "execution_count": null,
   "metadata": {
    "colab": {
     "base_uri": "https://localhost:8080/",
     "height": 331
    },
    "colab_type": "code",
    "executionInfo": {
     "elapsed": 25887,
     "status": "ok",
     "timestamp": 1588258252652,
     "user": {
      "displayName": "Sharoon Saxena",
      "photoUrl": "https://lh3.googleusercontent.com/a-/AOh14GjyKz9rNCPkHi6QK8TjrjBFlTtaI9ngf0hIwgAl=s64",
      "userId": "01167841530696023488"
     },
     "user_tz": -330
    },
    "id": "KZzT4v84DODe",
    "outputId": "28d8f337-9572-45d5-a4d7-89f931086e07"
   },
   "outputs": [],
   "source": [
    "# plotting heatmap usill all methods for all transaction variables\n",
    "plt.figure(figsize=(36,6), dpi=140)\n",
    "for j,i in enumerate(['pearson','kendall','spearman']):\n",
    "  plt.subplot(1,3,j+1)\n",
    "  correlation = numerical[var].dropna().corr(method=i)\n",
    "  sns.heatmap(correlation, linewidth = 2)\n",
    "  plt.title(i, fontsize=18)"
   ]
  },
  {
   "cell_type": "markdown",
   "metadata": {
    "colab_type": "text",
    "id": "26W7HQLJS_Rz"
   },
   "source": [
    "**Inferences:**\n",
    "\n",
    "\n",
    "1.   Transaction variables like credit/debit have a strong correlation among themselves.\n",
    "2.  Balance variables have strong correlation among themselves.\n",
    "3.   Transaction variables like credit/debit have insignificant or no correlation with the Balance variables.\n",
    "\n"
   ]
  },
  {
   "cell_type": "markdown",
   "metadata": {
    "colab_type": "text",
    "id": "VaYygjVJUf0I"
   },
   "source": [
    "### Scatterplot"
   ]
  },
  {
   "cell_type": "code",
   "execution_count": null,
   "metadata": {
    "colab": {},
    "colab_type": "code",
    "id": "2cirarNgU1Dn"
   },
   "outputs": [],
   "source": [
    "# Grouping variables\n",
    "transactions = ['current_month_credit','current_month_debit','previous_month_credit','previous_month_debit']\n",
    "balance = ['previous_month_end_balance','previous_month_balance','current_balance','current_month_balance']"
   ]
  },
  {
   "cell_type": "code",
   "execution_count": null,
   "metadata": {
    "colab": {
     "base_uri": "https://localhost:8080/",
     "height": 792
    },
    "colab_type": "code",
    "executionInfo": {
     "elapsed": 23188,
     "status": "ok",
     "timestamp": 1588258252654,
     "user": {
      "displayName": "Sharoon Saxena",
      "photoUrl": "https://lh3.googleusercontent.com/a-/AOh14GjyKz9rNCPkHi6QK8TjrjBFlTtaI9ngf0hIwgAl=s64",
      "userId": "01167841530696023488"
     },
     "user_tz": -330
    },
    "id": "1sWiCzLIGMWn",
    "outputId": "c2258d18-45f8-4e5b-d682-494996d04f2a"
   },
   "outputs": [],
   "source": [
    "# scatter plot for transactional variables\n",
    "plt.figure(dpi=140)\n",
    "sns.pairplot(numerical[transactions])"
   ]
  },
  {
   "cell_type": "markdown",
   "metadata": {
    "colab_type": "text",
    "id": "izeFVmArdlcL"
   },
   "source": [
    "**the scatter plot is is not meaningful due to the presence of outliers**"
   ]
  },
  {
   "cell_type": "code",
   "execution_count": null,
   "metadata": {
    "colab": {},
    "colab_type": "code",
    "id": "TYWU6jHpeEJf"
   },
   "outputs": [],
   "source": [
    "#taking log of every value to negate outliers\n",
    "for column in var:\n",
    "  mini=1\n",
    "  if numerical[column].min()<0:\n",
    "    mini =  abs(numerical[column].min()) + 1\n",
    "  \n",
    "  numerical[column] = [i+mini for i in numerical[column]]\n",
    "  numerical[column] = numerical[column].map(lambda x : np.log(x))"
   ]
  },
  {
   "cell_type": "code",
   "execution_count": null,
   "metadata": {
    "colab": {
     "base_uri": "https://localhost:8080/",
     "height": 781
    },
    "colab_type": "code",
    "executionInfo": {
     "elapsed": 28371,
     "status": "ok",
     "timestamp": 1588258260192,
     "user": {
      "displayName": "Sharoon Saxena",
      "photoUrl": "https://lh3.googleusercontent.com/a-/AOh14GjyKz9rNCPkHi6QK8TjrjBFlTtaI9ngf0hIwgAl=s64",
      "userId": "01167841530696023488"
     },
     "user_tz": -330
    },
    "id": "rAmHdUT8zyqG",
    "outputId": "545c665e-6922-43a6-9304-dc6528132601"
   },
   "outputs": [],
   "source": [
    "# scatter plot for transactional variables\n",
    "plt.figure(dpi=140)\n",
    "sns.pairplot(numerical[transactions])"
   ]
  },
  {
   "cell_type": "markdown",
   "metadata": {
    "colab_type": "text",
    "id": "AEpANup5eZwV"
   },
   "source": [
    "**Inferences**\n",
    "1.    This validates the high correlation between the transaction variables.\n",
    "2.    This high correlation can be used for feature engineering during the later stages."
   ]
  },
  {
   "cell_type": "code",
   "execution_count": null,
   "metadata": {
    "colab": {
     "base_uri": "https://localhost:8080/",
     "height": 770
    },
    "colab_type": "code",
    "executionInfo": {
     "elapsed": 9793,
     "status": "ok",
     "timestamp": 1588258278238,
     "user": {
      "displayName": "Sharoon Saxena",
      "photoUrl": "https://lh3.googleusercontent.com/a-/AOh14GjyKz9rNCPkHi6QK8TjrjBFlTtaI9ngf0hIwgAl=s64",
      "userId": "01167841530696023488"
     },
     "user_tz": -330
    },
    "id": "gJ1VkLc43tfI",
    "outputId": "9c0bca6d-7a63-4282-c397-ec3c954e50a5"
   },
   "outputs": [],
   "source": [
    "# balance variables\n",
    "plt.figure(dpi=140)\n",
    "sns.pairplot(numerical[balance])"
   ]
  },
  {
   "cell_type": "markdown",
   "metadata": {
    "colab_type": "text",
    "id": "as-bXBoFf1y5"
   },
   "source": [
    "**Inferences**\n",
    "1.    This validates the high correlation between the balance variables.\n",
    "2.    This high correlation can be used for feature engineering during the later stages."
   ]
  },
  {
   "cell_type": "code",
   "execution_count": null,
   "metadata": {
    "colab": {
     "base_uri": "https://localhost:8080/",
     "height": 547
    },
    "colab_type": "code",
    "executionInfo": {
     "elapsed": 25770,
     "status": "ok",
     "timestamp": 1588258260193,
     "user": {
      "displayName": "Sharoon Saxena",
      "photoUrl": "https://lh3.googleusercontent.com/a-/AOh14GjyKz9rNCPkHi6QK8TjrjBFlTtaI9ngf0hIwgAl=s64",
      "userId": "01167841530696023488"
     },
     "user_tz": -330
    },
    "id": "1M0SKcLQB31s",
    "outputId": "dbff9b87-931b-4059-8fcf-716eb31ab973"
   },
   "outputs": [],
   "source": [
    "# previous quarters\n",
    "plt.figure(dpi=140)\n",
    "sns.scatterplot(numerical['average_monthly_balance_prevQ'], numerical['average_monthly_balance_prevQ2'])"
   ]
  },
  {
   "cell_type": "markdown",
   "metadata": {
    "colab_type": "text",
    "id": "oL-II51yfz3F"
   },
   "source": [
    "**Inferences**\n",
    "1.    This validates the high correlation between the two previous quarters\n",
    "2.    This high correlation can be used for feature engineering during the later stages."
   ]
  },
  {
   "cell_type": "markdown",
   "metadata": {
    "colab": {},
    "colab_type": "code",
    "id": "aGhr2YBuLIn3"
   },
   "source": [
    "## Multivariate Analysis"
   ]
  },
  {
   "cell_type": "markdown",
   "metadata": {},
   "source": [
    "### Pivot Table"
   ]
  },
  {
   "cell_type": "markdown",
   "metadata": {},
   "source": [
    "We are using Pivot table to comply with the objective of identifying the Churning Customers Profile using multiple categorical features.\n",
    "First, Let's use Gender, Occupation and Customer Net worth category and derive insights from the Pivot Table"
   ]
  },
  {
   "cell_type": "markdown",
   "metadata": {},
   "source": [
    "### Gender, Occupation, Customer Net worth category with Churn"
   ]
  },
  {
   "cell_type": "code",
   "execution_count": null,
   "metadata": {},
   "outputs": [],
   "source": [
    "data['gender'] = data['gender'].astype('object')\n",
    "data['occupation'] = data['occupation'].astype('object')\n",
    "data['customer_nw_category'] = data['customer_nw_category'].astype('object')\n",
    "data['churn'] = data['churn'].astype('int')\n",
    "data['city'] = data['city'].astype('float')\n",
    "data['branch_code'] = data['branch_code'].astype('float')"
   ]
  },
  {
   "cell_type": "markdown",
   "metadata": {},
   "source": [
    "* Suitable datatype for Creating Pivot table in Pandas version (categorical datatype is not supported)"
   ]
  },
  {
   "cell_type": "code",
   "execution_count": null,
   "metadata": {},
   "outputs": [],
   "source": [
    "data.pivot_table('churn', ['gender', 'occupation'], 'customer_nw_category', aggfunc='mean')*100"
   ]
  },
  {
   "cell_type": "markdown",
   "metadata": {},
   "source": [
    "* __Highest number of churning customers__ are those __Male Customers__ who lie in __2 net worth category__ and belong to __Self-employed__ profession\n",
    "* Proportion wise for net worth category 1, Approximately 22% __Male customers__ who belong to the __Self-employed__ profession are churning\n",
    "* Proportion wise for net worth category 2, 20% __Male customers__ who belong to the __Self-employed__ profession are churning\n",
    "* For net worth category 3, Approximately 21% __Male customers__ who belong to the __Self-employed__ profession are churning\n",
    "\n",
    "* In all the cases of Customer net worth category, __Self-employed Male customers__ are more likely to churn\n",
    "\n",
    "* This would be interesting to dig deeper and find out if the __\"Self-employed Male\"__ Customers are more churning more"
   ]
  },
  {
   "cell_type": "markdown",
   "metadata": {},
   "source": [
    "### Gender, Age, Occupation with Churning Status"
   ]
  },
  {
   "cell_type": "markdown",
   "metadata": {},
   "source": [
    "Let's use one continuous variable Age, and two categorical variables, Gender, and Occupation to derive insights related to profiles of customers who are churning.\n",
    "We will have to convert continuous variable into categorical variable for efficiently using Pivot Table. Here we are binning age into three intervals"
   ]
  },
  {
   "cell_type": "code",
   "execution_count": null,
   "metadata": {},
   "outputs": [],
   "source": [
    "age = pd.cut(data['age'], [0, 25, 50, 100])\n",
    "data.pivot_table('churn', ['gender', age], 'occupation', aggfunc='sum')"
   ]
  },
  {
   "cell_type": "code",
   "execution_count": null,
   "metadata": {},
   "outputs": [],
   "source": [
    "age = pd.cut(data['age'], [0, 25, 50, 100])\n",
    "data.pivot_table('churn', ['gender', age], 'occupation', aggfunc='mean')*100"
   ]
  },
  {
   "cell_type": "markdown",
   "metadata": {},
   "source": [
    "* We have created three bins for the age variable dividing age into 3 groups 0-25, 25-50 and 50-100\n",
    "* Highest number of Customers are churning from __Male category__ who belong to the age group of __(25,50)__ and are professionally __self employed__\n",
    "* Highest Proportion of Customers are churning from __Male category__ who belong to the age group of __(0,25)__ and are professionally __self employed__\n",
    "* Here also __Self Employed Male customers__ are churning more than any other combination of categories\n",
    "\n"
   ]
  },
  {
   "cell_type": "markdown",
   "metadata": {},
   "source": [
    "### Gender,Age,Occupation and Current Balance with Churning Status"
   ]
  },
  {
   "cell_type": "markdown",
   "metadata": {},
   "source": [
    "Let's dig deeper by using two continuous variables Age and Current Balance and Two Categorical Variable Gender and Occupation and try to find out the insights related to churning customers profile"
   ]
  },
  {
   "cell_type": "code",
   "execution_count": null,
   "metadata": {},
   "outputs": [],
   "source": [
    "balance = pd.qcut(data['current_balance'], 3)\n",
    "data.pivot_table('churn', ['gender', age], [balance, 'occupation'], aggfunc='sum')"
   ]
  },
  {
   "cell_type": "code",
   "execution_count": null,
   "metadata": {},
   "outputs": [],
   "source": [
    "balance = pd.qcut(data['current_balance'], 3)\n",
    "data.pivot_table('churn', ['gender', age], [balance, 'occupation'], aggfunc='mean')*100"
   ]
  },
  {
   "cell_type": "markdown",
   "metadata": {},
   "source": [
    "* Current balance is divided into 3 quantiles\n",
    "* It is visible at first look that for __low current balance__ more number of customers are churning\n",
    "* For the first quantile of current balance, More than __18%__ (overall average churning) of customers are churning and for second and third quantile percentage of churning customers is less than 18%\n",
    "* In first quantile of current balance, for __self employed profession__ as the age increases for customers, their churning proportion decreases. This means that __Young Self employed Customers__ are more prone to churn \n",
    "* There is a visible gap in proportion of Self employed females who lie in the age group of (0,25) and Self employed Males who lie in the same group. __Young Male Self employed customers__ are churning more than young female self employed customers"
   ]
  },
  {
   "cell_type": "markdown",
   "metadata": {},
   "source": [
    "### Box Plot"
   ]
  },
  {
   "cell_type": "markdown",
   "metadata": {},
   "source": [
    "Now in order to comply with our objective of identifying churning customers profile we will use grouped Box plot."
   ]
  },
  {
   "cell_type": "code",
   "execution_count": null,
   "metadata": {},
   "outputs": [],
   "source": [
    "def Grouped_Box_Plot(data, cont, cat1, cat2):\n",
    "    # boxplot\n",
    "    sns.boxplot(x=cat1, y=cont, hue=cat2, data=data, orient='v')\n",
    "    plt.title('Boxplot')\n",
    "\n"
   ]
  },
  {
   "cell_type": "markdown",
   "metadata": {},
   "source": [
    "### Age, Occupation, Churn"
   ]
  },
  {
   "cell_type": "markdown",
   "metadata": {},
   "source": [
    "We are using one continuous variable Age and one categorical variable Occupation to derive insights related to churning customers profile"
   ]
  },
  {
   "cell_type": "code",
   "execution_count": null,
   "metadata": {},
   "outputs": [],
   "source": [
    "Grouped_Box_Plot(data,'age', 'occupation', 'churn')"
   ]
  },
  {
   "cell_type": "markdown",
   "metadata": {},
   "source": [
    "We can notice here that \n",
    "* For __Self-employed__ profession churning customers are slightly __younger__ than non churning customers\n",
    "* In the retired occupation for non churning customers, there are many outliers that indicate __young people who retire early are not churning__\n",
    "\n"
   ]
  },
  {
   "cell_type": "markdown",
   "metadata": {},
   "source": [
    "### Vintage, Gender, Churn"
   ]
  },
  {
   "cell_type": "markdown",
   "metadata": {},
   "source": [
    "It is also important to know the significance of vintage on churning profile of customers gender wise\n",
    "So let't take Vintage and Gender to derive insights for churning customers"
   ]
  },
  {
   "cell_type": "code",
   "execution_count": null,
   "metadata": {},
   "outputs": [],
   "source": [
    "Grouped_Box_Plot(data,'vintage','gender', 'churn')"
   ]
  },
  {
   "cell_type": "markdown",
   "metadata": {},
   "source": [
    "* There is __no visible difference__ in the vintage feature for genderwise churning and non churning customers\n",
    "\n"
   ]
  },
  {
   "cell_type": "markdown",
   "metadata": {},
   "source": [
    "## Pair Plot"
   ]
  },
  {
   "cell_type": "markdown",
   "metadata": {},
   "source": [
    "#### Churn vs Current & Previous month balances"
   ]
  },
  {
   "cell_type": "markdown",
   "metadata": {},
   "source": [
    "Now, we will check the relationship of the some transactional variables along with the churning status. Here conversion to log is important here as we have a lot of outliers and visualization will be difficult for it."
   ]
  },
  {
   "cell_type": "code",
   "execution_count": null,
   "metadata": {},
   "outputs": [],
   "source": [
    "balance_cols = ['current_balance','previous_month_end_balance',\n",
    "                'current_month_balance', 'previous_month_balance']\n",
    "data1 = pd.DataFrame()\n",
    "\n",
    "for i in balance_cols:\n",
    "    data1[str('log_')+ i] = np.log(data[i] + 6000)\n",
    "\n",
    "log_balance_cols = data1.columns"
   ]
  },
  {
   "cell_type": "code",
   "execution_count": null,
   "metadata": {},
   "outputs": [],
   "source": [
    "data1['churn'] = data['churn']"
   ]
  },
  {
   "cell_type": "markdown",
   "metadata": {},
   "source": [
    "We will use the brilliant pairplot function from Seaborn which supports displaying relationship between multiple variables. It displays the scatter plot between a pair of feature and also displays the distribution\n",
    "\n",
    "Here I have included the following:\n",
    "* Log of current balance & previous month end balance\n",
    "* Log of average monthly balance of current and previous month\n",
    "* Churn is represented by the color here (Orange - Churn, Blue - Not Churn)"
   ]
  },
  {
   "cell_type": "code",
   "execution_count": null,
   "metadata": {},
   "outputs": [],
   "source": [
    "sns.pairplot(data1,vars=log_balance_cols,hue ='churn',plot_kws={'alpha':0.1})\n",
    "plt.show()"
   ]
  },
  {
   "cell_type": "markdown",
   "metadata": {},
   "source": [
    "The distribution for these features look similar. We can make the following conclusions from this:\n",
    "* There is high correlation between the previous and current month balances which is expected\n",
    "* The distribution for churn and not churn is slightly different for both the cases"
   ]
  },
  {
   "cell_type": "markdown",
   "metadata": {},
   "source": [
    "### Credit and Debits for current and previous months\n",
    "\n",
    "Total credit and debit amounts for the current and previous can be clubbed into the same category. Let us again use the pair plot to check distributions and scatter plots."
   ]
  },
  {
   "cell_type": "code",
   "execution_count": null,
   "metadata": {},
   "outputs": [],
   "source": [
    "cr_dr_cols = ['current_month_credit','previous_month_credit', \n",
    "              'current_month_debit', 'previous_month_debit']\n",
    "data1 = pd.DataFrame()\n",
    "\n",
    "for i in cr_dr_cols:\n",
    "    data1[str('log_')+ i] = np.log(data[i])\n",
    "\n",
    "log_dr_cr_cols = data1.columns"
   ]
  },
  {
   "cell_type": "code",
   "execution_count": null,
   "metadata": {},
   "outputs": [],
   "source": [
    "data1['churn'] = data['churn']"
   ]
  },
  {
   "cell_type": "code",
   "execution_count": null,
   "metadata": {},
   "outputs": [],
   "source": [
    "sns.pairplot(data1,vars=log_dr_cr_cols, hue = 'churn',plot_kws={'alpha':0.5})\n",
    "plt.show()"
   ]
  },
  {
   "cell_type": "markdown",
   "metadata": {},
   "source": [
    "Both credit and debit patterns show significant difference in distributions for churned and non churned customers.\n",
    "* Bimodal distribution/Double Bell Curve shows that there are 2 different types of customers with 2 brackets of credit and debit. Now, during the modeling phase, these could be considered as a seperate set of customers\n",
    "* For debit values, we see that there is a significant difference in the distribution for churn and non churn and it might turn out to be an important feature"
   ]
  },
  {
   "cell_type": "markdown",
   "metadata": {},
   "source": [
    "## Encoding"
   ]
  },
  {
   "cell_type": "code",
   "execution_count": null,
   "metadata": {},
   "outputs": [],
   "source": [
    "data_encoded = pd.get_dummies(data, drop_first=True)\n",
    "data_encoded.head()"
   ]
  },
  {
   "cell_type": "markdown",
   "metadata": {},
   "source": [
    "* Encoding the variables using get dummies pandas function so every variable has numerical value attached to it"
   ]
  },
  {
   "cell_type": "markdown",
   "metadata": {},
   "source": [
    "## Missing Values with Mode"
   ]
  },
  {
   "cell_type": "code",
   "execution_count": null,
   "metadata": {},
   "outputs": [],
   "source": [
    "def fill_mode(df):\n",
    "    for column in df.columns:\n",
    "        df[column].fillna(df[column].mode()[0], inplace=True)"
   ]
  },
  {
   "cell_type": "code",
   "execution_count": null,
   "metadata": {},
   "outputs": [],
   "source": [
    "fill_mode(data_encoded)"
   ]
  },
  {
   "cell_type": "markdown",
   "metadata": {},
   "source": [
    "* Filling missing values with the mode of the data"
   ]
  },
  {
   "cell_type": "markdown",
   "metadata": {},
   "source": [
    "### Segregating variables: Independent and Dependent Variables"
   ]
  },
  {
   "cell_type": "code",
   "execution_count": null,
   "metadata": {},
   "outputs": [],
   "source": [
    "data_encoded = data_encoded.drop('customer_id', axis=1)"
   ]
  },
  {
   "cell_type": "markdown",
   "metadata": {},
   "source": [
    "* Insignification variable drop"
   ]
  },
  {
   "cell_type": "code",
   "execution_count": null,
   "metadata": {},
   "outputs": [],
   "source": [
    "#seperating independent and dependent variables\n",
    "x = data_encoded.drop(['churn'], axis=1)\n",
    "y = data_encoded['churn']\n",
    "x.shape, y.shape"
   ]
  },
  {
   "cell_type": "markdown",
   "metadata": {},
   "source": [
    "* Creating features and target variable"
   ]
  },
  {
   "cell_type": "code",
   "execution_count": null,
   "metadata": {},
   "outputs": [],
   "source": [
    "data_encoded.columns"
   ]
  },
  {
   "cell_type": "markdown",
   "metadata": {},
   "source": [
    "### Splitting the data into train set and the test set"
   ]
  },
  {
   "cell_type": "code",
   "execution_count": null,
   "metadata": {},
   "outputs": [],
   "source": [
    "# Importing the train test split function\n",
    "from sklearn.model_selection import train_test_split\n",
    "train_x,test_x,train_y,test_y = train_test_split(x,y, random_state = 56)"
   ]
  },
  {
   "cell_type": "markdown",
   "metadata": {},
   "source": [
    "* Splitting the entire data into train and test set"
   ]
  },
  {
   "cell_type": "markdown",
   "metadata": {},
   "source": [
    "### Normalising using *min_max_scaler*"
   ]
  },
  {
   "cell_type": "code",
   "execution_count": null,
   "metadata": {},
   "outputs": [],
   "source": [
    "from sklearn.preprocessing import MinMaxScaler\n",
    "scaler = MinMaxScaler()"
   ]
  },
  {
   "cell_type": "code",
   "execution_count": null,
   "metadata": {},
   "outputs": [],
   "source": [
    "cols = train_x.columns\n",
    "cols"
   ]
  },
  {
   "cell_type": "code",
   "execution_count": null,
   "metadata": {},
   "outputs": [],
   "source": [
    "train_x_scaled = scaler.fit_transform(train_x)\n",
    "train_x_scaled = pd.DataFrame(train_x_scaled, columns=cols)\n",
    "train_x_scaled.head()"
   ]
  },
  {
   "cell_type": "code",
   "execution_count": null,
   "metadata": {},
   "outputs": [],
   "source": [
    "test_x_scaled = scaler.transform(test_x)\n",
    "test_x_scaled = pd.DataFrame(test_x_scaled, columns=cols)\n",
    "test_x_scaled.head()"
   ]
  },
  {
   "cell_type": "markdown",
   "metadata": {},
   "source": [
    "* Scaling the data so model doesn't has bias for high valued features"
   ]
  },
  {
   "cell_type": "markdown",
   "metadata": {},
   "source": [
    "## Model Building"
   ]
  },
  {
   "cell_type": "code",
   "execution_count": null,
   "metadata": {},
   "outputs": [],
   "source": [
    "#importing Logistic Regression and metric accuracy score\n",
    "from sklearn.linear_model import LogisticRegression as LogReg\n",
    "from sklearn.metrics import accuracy_score\n",
    "# Creating instance of Logistic Regresssion\n",
    "logreg = LogReg()\n",
    "\n",
    "# Fitting the model\n",
    "logreg.fit(train_x, train_y)\n",
    "\n",
    "# Predicting over the Train\n",
    "train_predict = logreg.predict(train_x)\n",
    "train_predict\n",
    "\n",
    "# Calculating accuracy-score\n",
    "k = accuracy_score(train_predict, train_y)\n",
    "print('Training accuracy_score', k )\n",
    "\n",
    "# Predicting over the Test Set and accuracy-score\n",
    "test_predict = logreg.predict(test_x)\n",
    "k = accuracy_score(test_predict, test_y)\n",
    "print('Test accuracy_score    ', k )\n",
    "\n"
   ]
  },
  {
   "cell_type": "markdown",
   "metadata": {},
   "source": [
    "* Logistic regression works pretty well and able to provide accuracy more than 80% for both training and test set"
   ]
  },
  {
   "cell_type": "markdown",
   "metadata": {},
   "source": [
    "## Using Regularization"
   ]
  },
  {
   "cell_type": "code",
   "execution_count": null,
   "metadata": {},
   "outputs": [],
   "source": [
    "C = [10, 1, .1, .001]\n",
    "\n",
    "for c in C:\n",
    "    clf = LogReg(penalty='l1', C=c,)\n",
    "    clf.fit(train_x, train_y)\n",
    "    print('C:', c)\n",
    "    print('Coefficient of each feature:', clf.coef_)\n",
    "    print('Training accuracy:', clf.score(train_x, train_y))\n",
    "    print('Test accuracy:', clf.score(test_x, test_y))\n",
    "    print('')"
   ]
  },
  {
   "cell_type": "markdown",
   "metadata": {},
   "source": [
    "* As the value of C increases, Regularization constant decreases (C is inverse of Regularization Constant)\n",
    "* So most of the features associate themselves with 0 coefficient value\n",
    "* This can be a feature selection technique as well while building model"
   ]
  },
  {
   "cell_type": "code",
   "execution_count": null,
   "metadata": {},
   "outputs": [],
   "source": []
  }
 ],
 "metadata": {
  "colab": {
   "collapsed_sections": [
    "1FzYccB24irQ",
    "qfZv5qTw4rm_",
    "6PZEQUlXii1G",
    "37Pk32OwisyT",
    "TiC2VomvlWS5",
    "56ygh55Zok6v",
    "jFQ4BEyKrLkR",
    "kTqwU7fQ0jkI",
    "tleDyj9P_j_i",
    "2AyX9rNl-NIZ",
    "0pLmF5hCfCnV",
    "usLHBmuXgiKp",
    "Q85m_ybdmcb9",
    "KsyQLYV1DI4I",
    "Q2pl-Y7MNLnO",
    "Fkt2XboCPwgS",
    "RSCuzIUYec0W",
    "sSQC2-m5gct5",
    "k-Y5XxVSgg75",
    "DX4VSWJWvw-S",
    "QrfmvcvxEI_7",
    "1-hpix_pHzt5"
   ],
   "name": "Bivariate Cat Cat",
   "provenance": []
  },
  "kernelspec": {
   "display_name": "Python 3 (ipykernel)",
   "language": "python",
   "name": "python3"
  },
  "language_info": {
   "codemirror_mode": {
    "name": "ipython",
    "version": 3
   },
   "file_extension": ".py",
   "mimetype": "text/x-python",
   "name": "python",
   "nbconvert_exporter": "python",
   "pygments_lexer": "ipython3",
   "version": "3.8.0"
  }
 },
 "nbformat": 4,
 "nbformat_minor": 1
}
